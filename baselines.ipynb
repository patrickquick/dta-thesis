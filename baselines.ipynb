{
 "cells": [
  {
   "cell_type": "code",
   "execution_count": 1,
   "metadata": {},
   "outputs": [],
   "source": [
    "import json\n",
    "from collections import OrderedDict\n",
    "import spacy\n",
    "import os\n",
    "from natsort import natsort_key\n",
    "import pandas as pd\n",
    "import random\n",
    "import re\n",
    "\n",
    "import sys\n",
    "sys.path.append('/Users/pfq/Dropbox/DTA/Thesis_Internship/thesis/ner')\n",
    "from my_functions import get_tokens, replacer, get_distribution, splitter, preprocess_for_lexical, lexi_maker, predict_labels, evaluator"
   ]
  },
  {
   "attachments": {},
   "cell_type": "markdown",
   "metadata": {},
   "source": [
    "#### File and Directory Declarations"
   ]
  },
  {
   "cell_type": "code",
   "execution_count": 2,
   "metadata": {},
   "outputs": [],
   "source": [
    "# — — corpus — —\n",
    "\n",
    "# Corpus: original letters\n",
    "\n",
    "letters = \"/Users/pfq/Dropbox/DTA/Thesis_Internship/thesis/letters.json\"\n",
    "\n",
    "# — — NER subcorpus — —\n",
    "\n",
    "# NER subcorpus directory, one xml file per letter\n",
    "\n",
    "annotated_corpus_dir = \"/Users/pfq/Dropbox/DTA/Thesis_Internship/thesis/VARD2.5.4/annotated_corpus\"\n",
    "\n",
    "# NER subcorpus: original letters, original spelling (pre-preprocessing version)\n",
    "\n",
    "raw_ner_corpus = \"/Users/pfq/Dropbox/DTA/Thesis_Internship/thesis/VARD2.5.4/ner_corpus/raw_ner_corpus.csv\"\n",
    "\n",
    "# NER subcorpus: VARDed letters, VARD f-score 1 threshold 0 (pre-preprocessing version)\n",
    "\n",
    "v_f1t0 = \"/Users/pfq/Dropbox/DTA/Thesis_Internship/thesis/VARD2.5.4/ner_corpus/VARD_fscore_1.0_threshold_0.csv\""
   ]
  },
  {
   "attachments": {},
   "cell_type": "markdown",
   "metadata": {},
   "source": [
    "#### spaCy Functions"
   ]
  },
  {
   "cell_type": "code",
   "execution_count": 3,
   "metadata": {},
   "outputs": [],
   "source": [
    "def indexed_process_text(text):\n",
    "    '''\n",
    "    Processes the input text using spaCy's NER and returns a list of tuples\n",
    "    representing the entities found with their corresponding tags.\n",
    "\n",
    "    The function maps my custom tags to spaCy tags as follows:\n",
    "        [my tag] = [Spacy tags]\n",
    "        NAME = PERSON\n",
    "        LOCATION = GPE, FAC, ORG, LOC\n",
    "        NATION = NORP\n",
    "        DATE = DATE\n",
    "        PRICE = MONEY\n",
    "\n",
    "    Parameters:\n",
    "        text (str): The input text to be processed.\n",
    "\n",
    "    Returns:\n",
    "        list: A list of tuples representing the entities found in the text and their corresponding tags.\n",
    "              Each tuple contains three elements: (start_index, entity_tag, entity_text).\n",
    "    '''\n",
    "    doc = nlp(text)\n",
    "    entities = []\n",
    "    for token in doc:\n",
    "        if token.ent_type_ in ('PERSON', 'GPE', 'FAC', 'ORG', 'LOC', 'NORP', 'DATE', 'MONEY'):\n",
    "            entities.append((token.idx,f'{token.ent_type_}-{token.ent_iob_}',token.text))\n",
    "        else:\n",
    "            entities.append((token.idx,'O',token.text))\n",
    "    return entities"
   ]
  },
  {
   "cell_type": "code",
   "execution_count": 4,
   "metadata": {},
   "outputs": [],
   "source": [
    "def transform_spacy_labels(lst):\n",
    "    '''\n",
    "    Transforms a list of spaCy NER tags to my custom tags.\n",
    "\n",
    "    The function uses the following mapping to convert spaCy tags to custom tags:\n",
    "        my tag = spaCy tags\n",
    "        NAME = PERSON\n",
    "        LOCATION = GPE, FAC, ORG, LOC\n",
    "        NATION = NORP\n",
    "        DATE = DATE\n",
    "        PRICE = MONEY\n",
    "\n",
    "    Parameters:\n",
    "        lst (list): A list of spaCy NER tags to be transformed.\n",
    "\n",
    "    Returns:\n",
    "        list: A new list with spaCy tags converted to my custom tags as per the specified mapping.\n",
    "    '''\n",
    "    for i in range(len(lst)):\n",
    "        element = lst[i]\n",
    "        if element == 'PERSON-B':\n",
    "            lst[i] = 'NAME-B'\n",
    "        elif element == 'PERSON-I':\n",
    "            lst[i] = 'NAME-I'\n",
    "        elif element == 'GPE-B' or element == 'FAC-B' or element == 'ORG-B' or element == 'LOC-B':\n",
    "            lst[i] = 'LOCATION-B'\n",
    "        elif element == 'GPE-I' or element == 'FAC-I' or element == 'ORG-I' or element == 'LOC-I':\n",
    "            lst[i] = 'LOCATION-I'\n",
    "        elif element == 'NORP-B':\n",
    "            lst[i] = 'NATION-B'\n",
    "        elif element == 'NORP-I':\n",
    "            lst[i] = 'NATION-I'\n",
    "        elif element == 'MONEY-B':\n",
    "            lst[i] = 'PRICE-B'\n",
    "        elif element == 'MONEY-I':\n",
    "            lst[i] = 'PRICE-I'"
   ]
  },
  {
   "attachments": {},
   "cell_type": "markdown",
   "metadata": {},
   "source": [
    "# spaCy Baseline"
   ]
  },
  {
   "attachments": {},
   "cell_type": "markdown",
   "metadata": {},
   "source": [
    "#### Using `raw_ner_corpus`\n",
    "$\\to$ spaCy processes one line at a time\\\n",
    "$\\to$ spaCy predictions reconciled with true labelling for entire NER Subcorpus"
   ]
  },
  {
   "attachments": {},
   "cell_type": "markdown",
   "metadata": {},
   "source": [
    "##### Data Preparation"
   ]
  },
  {
   "cell_type": "code",
   "execution_count": 5,
   "metadata": {},
   "outputs": [],
   "source": [
    "# get list of annotated letters from file list of folder of annotated letters\n",
    "\n",
    "annotated_corpus_list = os.listdir(annotated_corpus_dir)\n",
    "\n",
    "# sort list so that the letters are in the same order as the df, from which true labels will be read\n",
    "\n",
    "annotated_corpus = [os.path.splitext(f)[0] for f in sorted(annotated_corpus_list, key=natsort_key)]"
   ]
  },
  {
   "cell_type": "code",
   "execution_count": 6,
   "metadata": {},
   "outputs": [],
   "source": [
    "# process the letters in the original json file into the same order as the df\n",
    "\n",
    "spacy_letters = []\n",
    "\n",
    "with open(letters) as json_file:\n",
    "    letters = json.load(json_file)\n",
    "\n",
    "for f in annotated_corpus:\n",
    "    for letter in letters:\n",
    "        letter_id = letter['_id']\n",
    "        text = letter['text']\n",
    "        if f == letter_id:\n",
    "            output = {\n",
    "                \"_id\" : letter_id,\n",
    "                \"text\" : text\n",
    "            }\n",
    "            spacy_letters.append(output)\n",
    "\n",
    "# process the letters as per the creation of the corpus to preserve indexing across project\n",
    "\n",
    "# save as json file from which we can work\n",
    "\n",
    "for f in spacy_letters:\n",
    "    new_text = []\n",
    "    for word in f['text']:\n",
    "        word = ' '.join(word.split())\n",
    "        new_word = replacer(word)\n",
    "        new_text.append(new_word)\n",
    "    f['text'] = new_text\n",
    "\n",
    "with open('raw_ner_corpus.json', 'w') as f:\n",
    "    json.dump(spacy_letters, f, indent=4)"
   ]
  },
  {
   "cell_type": "code",
   "execution_count": 7,
   "metadata": {},
   "outputs": [],
   "source": [
    "# open json file and prepare data for reconciling spaCy tokenization with true label enumeration\n",
    "\n",
    "with open(\"raw_ner_corpus.json\") as f:\n",
    "    data = json.load(f, object_pairs_hook=OrderedDict)\n",
    "\n",
    "# process letters with spaCy to create list of tuples with index\n",
    "\n",
    "# prepare the letters for reconciliation with labels based on character index\n",
    "\n",
    "nlp = spacy.load('en_core_web_sm')\n",
    "\n",
    "spacy_raw_indexed = []\n",
    "line_raw = []\n",
    "for letter in data:\n",
    "    for line in letter['text']:\n",
    "        line_raw.append(line)\n",
    "        l = indexed_process_text(line)\n",
    "        spacy_raw_indexed.append(l)"
   ]
  },
  {
   "cell_type": "code",
   "execution_count": 8,
   "metadata": {},
   "outputs": [
    {
     "data": {
      "text/plain": [
       "('1. OTWELL JOHNSON TO JOHN JOHNSON',\n",
       " [(0, 'O', '1'),\n",
       "  (1, 'O', '.'),\n",
       "  (3, 'ORG-B', 'OTWELL'),\n",
       "  (10, 'O', 'JOHNSON'),\n",
       "  (18, 'O', 'TO'),\n",
       "  (21, 'PERSON-B', 'JOHN'),\n",
       "  (26, 'PERSON-I', 'JOHNSON')],\n",
       " 'End. 1552, from George Perott at Caliais, 13 Marche; receyved at London le 17; aunsweryd le dit.',\n",
       " [(0, 'O', 'End'),\n",
       "  (3, 'O', '.'),\n",
       "  (5, 'DATE-B', '1552'),\n",
       "  (9, 'O', ','),\n",
       "  (11, 'O', 'from'),\n",
       "  (16, 'PERSON-B', 'George'),\n",
       "  (23, 'PERSON-I', 'Perott'),\n",
       "  (30, 'O', 'at'),\n",
       "  (33, 'O', 'Caliais'),\n",
       "  (40, 'O', ','),\n",
       "  (42, 'O', '13'),\n",
       "  (45, 'ORG-B', 'Marche'),\n",
       "  (51, 'O', ';'),\n",
       "  (53, 'O', 'receyved'),\n",
       "  (62, 'O', 'at'),\n",
       "  (65, 'GPE-B', 'London'),\n",
       "  (72, 'O', 'le'),\n",
       "  (75, 'O', '17'),\n",
       "  (77, 'O', ';'),\n",
       "  (79, 'O', 'aunsweryd'),\n",
       "  (89, 'O', 'le'),\n",
       "  (92, 'O', 'dit'),\n",
       "  (95, 'O', '.')])"
      ]
     },
     "execution_count": 8,
     "metadata": {},
     "output_type": "execute_result"
    }
   ],
   "source": [
    "# check the output lists\n",
    "\n",
    "line_raw[0], spacy_raw_indexed[0], line_raw[-1], spacy_raw_indexed[-1]"
   ]
  },
  {
   "cell_type": "code",
   "execution_count": 9,
   "metadata": {},
   "outputs": [],
   "source": [
    "# empty lists are present as a result of line breaks being inherited when reading the original letters in, remove them\n",
    "\n",
    "spacy_raw_indexed = [sublist for sublist in spacy_raw_indexed if sublist]\n",
    "line_raw = [sublist for sublist in line_raw if sublist]"
   ]
  },
  {
   "cell_type": "code",
   "execution_count": 10,
   "metadata": {},
   "outputs": [],
   "source": [
    "# reconcile spaCy NER with enumeration of true labelling\n",
    "\n",
    "spacy_wd_labels = []\n",
    "for i in range(len(spacy_raw_indexed)):\n",
    "    it = get_tokens(spacy_raw_indexed[i])\n",
    "    next(it)\n",
    "    out = [it.send(w) for w in line_raw[i].split()]\n",
    "    spacy_wd_labels.append(out)"
   ]
  },
  {
   "cell_type": "code",
   "execution_count": 11,
   "metadata": {},
   "outputs": [
    {
     "data": {
      "text/plain": [
       "([('1.', 'O'),\n",
       "  ('OTWELL', 'ORG-B'),\n",
       "  ('JOHNSON', 'O'),\n",
       "  ('TO', 'O'),\n",
       "  ('JOHN', 'PERSON-B'),\n",
       "  ('JOHNSON', 'PERSON-I')],\n",
       " [('End.', 'O'),\n",
       "  ('1552,', 'DATE-B'),\n",
       "  ('from', 'O'),\n",
       "  ('George', 'PERSON-B'),\n",
       "  ('Perott', 'PERSON-I'),\n",
       "  ('at', 'O'),\n",
       "  ('Caliais,', 'O'),\n",
       "  ('13', 'O'),\n",
       "  ('Marche;', 'ORG-B'),\n",
       "  ('receyved', 'O'),\n",
       "  ('at', 'O'),\n",
       "  ('London', 'GPE-B'),\n",
       "  ('le', 'O'),\n",
       "  ('17;', 'O'),\n",
       "  ('aunsweryd', 'O'),\n",
       "  ('le', 'O'),\n",
       "  ('dit.', 'O')])"
      ]
     },
     "execution_count": 11,
     "metadata": {},
     "output_type": "execute_result"
    }
   ],
   "source": [
    "# initial check of spaCy's labels\n",
    "\n",
    "spacy_wd_labels[0], spacy_wd_labels[-1]"
   ]
  },
  {
   "cell_type": "code",
   "execution_count": 12,
   "metadata": {},
   "outputs": [
    {
     "data": {
      "text/html": [
       "<div>\n",
       "<style scoped>\n",
       "    .dataframe tbody tr th:only-of-type {\n",
       "        vertical-align: middle;\n",
       "    }\n",
       "\n",
       "    .dataframe tbody tr th {\n",
       "        vertical-align: top;\n",
       "    }\n",
       "\n",
       "    .dataframe thead th {\n",
       "        text-align: right;\n",
       "    }\n",
       "</style>\n",
       "<table border=\"1\" class=\"dataframe\">\n",
       "  <thead>\n",
       "    <tr style=\"text-align: right;\">\n",
       "      <th></th>\n",
       "      <th>word_id</th>\n",
       "      <th>word</th>\n",
       "      <th>NAME</th>\n",
       "      <th>LOCATION</th>\n",
       "      <th>NATION</th>\n",
       "      <th>MARKET</th>\n",
       "      <th>DATE</th>\n",
       "      <th>TIME</th>\n",
       "      <th>PRICE</th>\n",
       "      <th>GOD</th>\n",
       "      <th>labels</th>\n",
       "    </tr>\n",
       "  </thead>\n",
       "  <tbody>\n",
       "    <tr>\n",
       "      <th>0</th>\n",
       "      <td>SB_J_1.0.0</td>\n",
       "      <td>1.</td>\n",
       "      <td>O</td>\n",
       "      <td>O</td>\n",
       "      <td>O</td>\n",
       "      <td>O</td>\n",
       "      <td>O</td>\n",
       "      <td>O</td>\n",
       "      <td>O</td>\n",
       "      <td>O</td>\n",
       "      <td>O</td>\n",
       "    </tr>\n",
       "    <tr>\n",
       "      <th>1</th>\n",
       "      <td>SB_J_1.0.1</td>\n",
       "      <td>OTWELL</td>\n",
       "      <td>B</td>\n",
       "      <td>O</td>\n",
       "      <td>O</td>\n",
       "      <td>O</td>\n",
       "      <td>O</td>\n",
       "      <td>O</td>\n",
       "      <td>O</td>\n",
       "      <td>O</td>\n",
       "      <td>NAME-B</td>\n",
       "    </tr>\n",
       "    <tr>\n",
       "      <th>2</th>\n",
       "      <td>SB_J_1.0.2</td>\n",
       "      <td>JOHNSON</td>\n",
       "      <td>I</td>\n",
       "      <td>O</td>\n",
       "      <td>O</td>\n",
       "      <td>O</td>\n",
       "      <td>O</td>\n",
       "      <td>O</td>\n",
       "      <td>O</td>\n",
       "      <td>O</td>\n",
       "      <td>NAME-I</td>\n",
       "    </tr>\n",
       "    <tr>\n",
       "      <th>3</th>\n",
       "      <td>SB_J_1.0.3</td>\n",
       "      <td>TO</td>\n",
       "      <td>O</td>\n",
       "      <td>O</td>\n",
       "      <td>O</td>\n",
       "      <td>O</td>\n",
       "      <td>O</td>\n",
       "      <td>O</td>\n",
       "      <td>O</td>\n",
       "      <td>O</td>\n",
       "      <td>O</td>\n",
       "    </tr>\n",
       "    <tr>\n",
       "      <th>4</th>\n",
       "      <td>SB_J_1.0.4</td>\n",
       "      <td>JOHN</td>\n",
       "      <td>B</td>\n",
       "      <td>O</td>\n",
       "      <td>O</td>\n",
       "      <td>O</td>\n",
       "      <td>O</td>\n",
       "      <td>O</td>\n",
       "      <td>O</td>\n",
       "      <td>O</td>\n",
       "      <td>NAME-B</td>\n",
       "    </tr>\n",
       "    <tr>\n",
       "      <th>5</th>\n",
       "      <td>SB_J_1.0.5</td>\n",
       "      <td>JOHNSON</td>\n",
       "      <td>I</td>\n",
       "      <td>O</td>\n",
       "      <td>O</td>\n",
       "      <td>O</td>\n",
       "      <td>O</td>\n",
       "      <td>O</td>\n",
       "      <td>O</td>\n",
       "      <td>O</td>\n",
       "      <td>NAME-I</td>\n",
       "    </tr>\n",
       "    <tr>\n",
       "      <th>6</th>\n",
       "      <td>SB_J_1.1.0</td>\n",
       "      <td>At</td>\n",
       "      <td>O</td>\n",
       "      <td>O</td>\n",
       "      <td>O</td>\n",
       "      <td>O</td>\n",
       "      <td>O</td>\n",
       "      <td>O</td>\n",
       "      <td>O</td>\n",
       "      <td>O</td>\n",
       "      <td>O</td>\n",
       "    </tr>\n",
       "    <tr>\n",
       "      <th>7</th>\n",
       "      <td>SB_J_1.1.1</td>\n",
       "      <td>London,</td>\n",
       "      <td>O</td>\n",
       "      <td>B</td>\n",
       "      <td>O</td>\n",
       "      <td>O</td>\n",
       "      <td>O</td>\n",
       "      <td>O</td>\n",
       "      <td>O</td>\n",
       "      <td>O</td>\n",
       "      <td>LOCATION-B</td>\n",
       "    </tr>\n",
       "    <tr>\n",
       "      <th>8</th>\n",
       "      <td>SB_J_1.1.2</td>\n",
       "      <td>the</td>\n",
       "      <td>O</td>\n",
       "      <td>O</td>\n",
       "      <td>O</td>\n",
       "      <td>O</td>\n",
       "      <td>B</td>\n",
       "      <td>O</td>\n",
       "      <td>O</td>\n",
       "      <td>O</td>\n",
       "      <td>DATE-B</td>\n",
       "    </tr>\n",
       "    <tr>\n",
       "      <th>9</th>\n",
       "      <td>SB_J_1.1.3</td>\n",
       "      <td>12th</td>\n",
       "      <td>O</td>\n",
       "      <td>O</td>\n",
       "      <td>O</td>\n",
       "      <td>O</td>\n",
       "      <td>I</td>\n",
       "      <td>O</td>\n",
       "      <td>O</td>\n",
       "      <td>O</td>\n",
       "      <td>DATE-I</td>\n",
       "    </tr>\n",
       "  </tbody>\n",
       "</table>\n",
       "</div>"
      ],
      "text/plain": [
       "      word_id     word NAME LOCATION NATION MARKET DATE TIME PRICE GOD  \\\n",
       "0  SB_J_1.0.0       1.    O        O      O      O    O    O     O   O   \n",
       "1  SB_J_1.0.1   OTWELL    B        O      O      O    O    O     O   O   \n",
       "2  SB_J_1.0.2  JOHNSON    I        O      O      O    O    O     O   O   \n",
       "3  SB_J_1.0.3       TO    O        O      O      O    O    O     O   O   \n",
       "4  SB_J_1.0.4     JOHN    B        O      O      O    O    O     O   O   \n",
       "5  SB_J_1.0.5  JOHNSON    I        O      O      O    O    O     O   O   \n",
       "6  SB_J_1.1.0       At    O        O      O      O    O    O     O   O   \n",
       "7  SB_J_1.1.1  London,    O        B      O      O    O    O     O   O   \n",
       "8  SB_J_1.1.2      the    O        O      O      O    B    O     O   O   \n",
       "9  SB_J_1.1.3     12th    O        O      O      O    I    O     O   O   \n",
       "\n",
       "       labels  \n",
       "0           O  \n",
       "1      NAME-B  \n",
       "2      NAME-I  \n",
       "3           O  \n",
       "4      NAME-B  \n",
       "5      NAME-I  \n",
       "6           O  \n",
       "7  LOCATION-B  \n",
       "8      DATE-B  \n",
       "9      DATE-I  "
      ]
     },
     "execution_count": 12,
     "metadata": {},
     "output_type": "execute_result"
    }
   ],
   "source": [
    "# open the original letters to retrieve labels\n",
    "\n",
    "df = pd.read_csv(raw_ner_corpus, sep=',')\n",
    "\n",
    "# dropna() will drop empty values in word, which are a result of line breaks in the letters\n",
    "\n",
    "df = df.dropna()\n",
    "df.head(10)"
   ]
  },
  {
   "cell_type": "code",
   "execution_count": 13,
   "metadata": {},
   "outputs": [
    {
     "data": {
      "text/plain": [
       "([('1.', 'O'),\n",
       "  ('OTWELL', 'NAME-B'),\n",
       "  ('JOHNSON', 'NAME-I'),\n",
       "  ('TO', 'O'),\n",
       "  ('JOHN', 'NAME-B'),\n",
       "  ('JOHNSON', 'NAME-I')],\n",
       " [('End.', 'O'),\n",
       "  ('1552,', 'DATE-B'),\n",
       "  ('from', 'O'),\n",
       "  ('George', 'NAME-B'),\n",
       "  ('Perott', 'NAME-I'),\n",
       "  ('at', 'O'),\n",
       "  ('Caliais,', 'LOCATION-B'),\n",
       "  ('13', 'DATE-B'),\n",
       "  ('Marche;', 'DATE-I'),\n",
       "  ('receyved', 'O'),\n",
       "  ('at', 'O'),\n",
       "  ('London', 'LOCATION-B'),\n",
       "  ('le', 'DATE-B'),\n",
       "  ('17;', 'DATE-I'),\n",
       "  ('aunsweryd', 'O'),\n",
       "  ('le', 'DATE-B'),\n",
       "  ('dit.', 'DATE-I')])"
      ]
     },
     "execution_count": 13,
     "metadata": {},
     "output_type": "execute_result"
    }
   ],
   "source": [
    "# format list of true labels per sentence in order to check that lengths match\n",
    "\n",
    "true_labels_sentences = [list(zip(g['word'], g['labels'])) for k, g in\n",
    "       df.groupby(df['word_id'].str.endswith('.0').cumsum())]\n",
    "\n",
    "# check output\n",
    "\n",
    "true_labels_sentences[0], true_labels_sentences[-1]"
   ]
  },
  {
   "cell_type": "code",
   "execution_count": 14,
   "metadata": {},
   "outputs": [],
   "source": [
    "# check that the length of the true labels and spaCy labels are identical, sentence/line at a time\n",
    "\n",
    "for f, g in zip(true_labels_sentences, spacy_wd_labels):\n",
    "    if len(f) != len(g):\n",
    "        print(f, g)"
   ]
  },
  {
   "cell_type": "code",
   "execution_count": 15,
   "metadata": {},
   "outputs": [],
   "source": [
    "# check for misordered tags, i.e. 'I' before 'B' as a result of reconciling spaCy NER\n",
    "\n",
    "for f,sublist in enumerate(spacy_wd_labels):\n",
    "    for i in range(len(sublist) - 1):\n",
    "        current_tuple = sublist[i]\n",
    "        next_tuple = sublist[i + 1]\n",
    "        previous_tuple = sublist[i - 1]\n",
    "        \n",
    "        if current_tuple[1].endswith('I') and next_tuple[1].endswith('B') and current_tuple[1][:2] == next_tuple[1][:2]:\n",
    "            if current_tuple[1].endswith('I') and not previous_tuple[1].endswith('B'):\n",
    "                if current_tuple[1][:2] != previous_tuple[1][:2]:\n",
    "                    print(f\"index: {f}\")"
   ]
  },
  {
   "cell_type": "code",
   "execution_count": 16,
   "metadata": {},
   "outputs": [],
   "source": [
    "# prepare spaCy labels for evaluation by tranforming to list\n",
    "\n",
    "spacy_labels = [t[1] for sublist in spacy_wd_labels for t in sublist]"
   ]
  },
  {
   "cell_type": "code",
   "execution_count": 17,
   "metadata": {},
   "outputs": [],
   "source": [
    "# transform spaCy labels to match that of true labels\n",
    "\n",
    "transform_spacy_labels(spacy_labels)"
   ]
  },
  {
   "cell_type": "code",
   "execution_count": 18,
   "metadata": {},
   "outputs": [],
   "source": [
    "# prepare true labels, given that we are only creating a baseline for 'NAME', 'LOCATION', 'NATION', 'DATE', 'PRICE'\n",
    "\n",
    "# we do not need 'GOD', 'MARKET', 'TIME'\n",
    "\n",
    "df['labels'] = df['labels'].replace(['GOD-B', 'GOD-I', 'MARKET-B', 'MARKET-I', 'TIME-B', 'TIME-I'], 'O')\n",
    "\n",
    "true_labels = df['labels'].tolist()"
   ]
  },
  {
   "cell_type": "code",
   "execution_count": 19,
   "metadata": {},
   "outputs": [
    {
     "data": {
      "text/plain": [
       "True"
      ]
     },
     "execution_count": 19,
     "metadata": {},
     "output_type": "execute_result"
    }
   ],
   "source": [
    "# check that true and spaCy data are identical lengths\n",
    "\n",
    "len(spacy_labels) == len(true_labels)"
   ]
  },
  {
   "cell_type": "code",
   "execution_count": 20,
   "metadata": {},
   "outputs": [],
   "source": [
    "# prepare labels\n",
    "\n",
    "labels = sorted(list(set(df['labels'])))"
   ]
  },
  {
   "attachments": {},
   "cell_type": "markdown",
   "metadata": {},
   "source": [
    "##### Evaluation"
   ]
  },
  {
   "cell_type": "code",
   "execution_count": 21,
   "metadata": {},
   "outputs": [
    {
     "name": "stdout",
     "output_type": "stream",
     "text": [
      "accuracy: 0.8923692887423458\n",
      "f1 average: 0.27669639247614924\n",
      "\n"
     ]
    },
    {
     "name": "stderr",
     "output_type": "stream",
     "text": [
      "/opt/anaconda3/lib/python3.8/site-packages/sklearn/metrics/_classification.py:1344: UndefinedMetricWarning: Precision is ill-defined and being set to 0.0 in labels with no predicted samples. Use `zero_division` parameter to control this behavior.\n",
      "  _warn_prf(average, modifier, msg_start, len(result))\n"
     ]
    },
    {
     "name": "stdout",
     "output_type": "stream",
     "text": [
      "precision: [0.18456376 0.57894737 0.39487423 0.07674944 0.39874816 0.64226682\n",
      " 0.04040404 0.         0.94799327 0.25       0.22222222]\n",
      "recall: [0.18739353 0.13624511 0.72097054 0.36170213 0.49339408 0.48398577\n",
      " 0.03603604 0.         0.96421986 0.00340716 0.00319489]\n",
      "f1: [0.18596788 0.22058047 0.51027292 0.12662942 0.4410507  0.55200406\n",
      " 0.03809524 0.         0.95603772 0.00672269 0.00629921]\n",
      "\n"
     ]
    },
    {
     "name": "stderr",
     "output_type": "stream",
     "text": [
      "/opt/anaconda3/lib/python3.8/site-packages/sklearn/metrics/_classification.py:1344: UndefinedMetricWarning: Precision and F-score are ill-defined and being set to 0.0 in labels with no predicted samples. Use `zero_division` parameter to control this behavior.\n",
      "  _warn_prf(average, modifier, msg_start, len(result))\n",
      "/opt/anaconda3/lib/python3.8/site-packages/sklearn/metrics/_classification.py:1344: UndefinedMetricWarning: Precision and F-score are ill-defined and being set to 0.0 in labels with no predicted samples. Use `zero_division` parameter to control this behavior.\n",
      "  _warn_prf(average, modifier, msg_start, len(result))\n",
      "/opt/anaconda3/lib/python3.8/site-packages/sklearn/metrics/_classification.py:1344: UndefinedMetricWarning: Precision and F-score are ill-defined and being set to 0.0 in labels with no predicted samples. Use `zero_division` parameter to control this behavior.\n",
      "  _warn_prf(average, modifier, msg_start, len(result))\n"
     ]
    },
    {
     "name": "stdout",
     "output_type": "stream",
     "text": [
      "              precision    recall  f1-score   support\n",
      "\n",
      "      DATE-B       0.18      0.19      0.19       587\n",
      "      DATE-I       0.58      0.14      0.22      1534\n",
      "  LOCATION-B       0.39      0.72      0.51      1154\n",
      "  LOCATION-I       0.08      0.36      0.13        94\n",
      "      NAME-B       0.40      0.49      0.44      2195\n",
      "      NAME-I       0.64      0.48      0.55      2248\n",
      "    NATION-B       0.04      0.04      0.04       111\n",
      "    NATION-I       0.00      0.00      0.00        48\n",
      "           O       0.95      0.96      0.96     67244\n",
      "     PRICE-B       0.25      0.00      0.01       587\n",
      "     PRICE-I       0.22      0.00      0.01       626\n",
      "\n",
      "    accuracy                           0.89     76428\n",
      "   macro avg       0.34      0.31      0.28     76428\n",
      "weighted avg       0.89      0.89      0.88     76428\n",
      "\n"
     ]
    },
    {
     "data": {
      "image/png": "[encoded data removed]",
      "text/plain": [
       "<Figure size 900x700 with 2 Axes>"
      ]
     },
     "metadata": {},
     "output_type": "display_data"
    }
   ],
   "source": [
    "evaluator(true_labels, spacy_labels, labels, size='big')"
   ]
  },
  {
   "attachments": {},
   "cell_type": "markdown",
   "metadata": {},
   "source": [
    "#### Using `v_f1t0`\n",
    "$\\to$ spaCy processes one line at a time\\\n",
    "$\\to$ spaCy predictions reconciled with true labelling for entire NER Subcorpus"
   ]
  },
  {
   "attachments": {},
   "cell_type": "markdown",
   "metadata": {},
   "source": [
    "##### Data Preparation"
   ]
  },
  {
   "cell_type": "code",
   "execution_count": 22,
   "metadata": {},
   "outputs": [
    {
     "data": {
      "text/html": [
       "<div>\n",
       "<style scoped>\n",
       "    .dataframe tbody tr th:only-of-type {\n",
       "        vertical-align: middle;\n",
       "    }\n",
       "\n",
       "    .dataframe tbody tr th {\n",
       "        vertical-align: top;\n",
       "    }\n",
       "\n",
       "    .dataframe thead th {\n",
       "        text-align: right;\n",
       "    }\n",
       "</style>\n",
       "<table border=\"1\" class=\"dataframe\">\n",
       "  <thead>\n",
       "    <tr style=\"text-align: right;\">\n",
       "      <th></th>\n",
       "      <th>word_id</th>\n",
       "      <th>word</th>\n",
       "      <th>NAME</th>\n",
       "      <th>LOCATION</th>\n",
       "      <th>NATION</th>\n",
       "      <th>MARKET</th>\n",
       "      <th>DATE</th>\n",
       "      <th>TIME</th>\n",
       "      <th>PRICE</th>\n",
       "      <th>GOD</th>\n",
       "      <th>labels</th>\n",
       "    </tr>\n",
       "  </thead>\n",
       "  <tbody>\n",
       "    <tr>\n",
       "      <th>0</th>\n",
       "      <td>SB_J_1.0.0</td>\n",
       "      <td>1.</td>\n",
       "      <td>O</td>\n",
       "      <td>O</td>\n",
       "      <td>O</td>\n",
       "      <td>O</td>\n",
       "      <td>O</td>\n",
       "      <td>O</td>\n",
       "      <td>O</td>\n",
       "      <td>O</td>\n",
       "      <td>O</td>\n",
       "    </tr>\n",
       "    <tr>\n",
       "      <th>1</th>\n",
       "      <td>SB_J_1.0.1</td>\n",
       "      <td>HOTEL</td>\n",
       "      <td>B</td>\n",
       "      <td>O</td>\n",
       "      <td>O</td>\n",
       "      <td>O</td>\n",
       "      <td>O</td>\n",
       "      <td>O</td>\n",
       "      <td>O</td>\n",
       "      <td>O</td>\n",
       "      <td>NAME-B</td>\n",
       "    </tr>\n",
       "    <tr>\n",
       "      <th>2</th>\n",
       "      <td>SB_J_1.0.2</td>\n",
       "      <td>JOHNSON</td>\n",
       "      <td>I</td>\n",
       "      <td>O</td>\n",
       "      <td>O</td>\n",
       "      <td>O</td>\n",
       "      <td>O</td>\n",
       "      <td>O</td>\n",
       "      <td>O</td>\n",
       "      <td>O</td>\n",
       "      <td>NAME-I</td>\n",
       "    </tr>\n",
       "    <tr>\n",
       "      <th>3</th>\n",
       "      <td>SB_J_1.0.3</td>\n",
       "      <td>TO</td>\n",
       "      <td>O</td>\n",
       "      <td>O</td>\n",
       "      <td>O</td>\n",
       "      <td>O</td>\n",
       "      <td>O</td>\n",
       "      <td>O</td>\n",
       "      <td>O</td>\n",
       "      <td>O</td>\n",
       "      <td>O</td>\n",
       "    </tr>\n",
       "    <tr>\n",
       "      <th>4</th>\n",
       "      <td>SB_J_1.0.4</td>\n",
       "      <td>JOHN</td>\n",
       "      <td>B</td>\n",
       "      <td>O</td>\n",
       "      <td>O</td>\n",
       "      <td>O</td>\n",
       "      <td>O</td>\n",
       "      <td>O</td>\n",
       "      <td>O</td>\n",
       "      <td>O</td>\n",
       "      <td>NAME-B</td>\n",
       "    </tr>\n",
       "    <tr>\n",
       "      <th>5</th>\n",
       "      <td>SB_J_1.0.5</td>\n",
       "      <td>JOHNSON</td>\n",
       "      <td>I</td>\n",
       "      <td>O</td>\n",
       "      <td>O</td>\n",
       "      <td>O</td>\n",
       "      <td>O</td>\n",
       "      <td>O</td>\n",
       "      <td>O</td>\n",
       "      <td>O</td>\n",
       "      <td>NAME-I</td>\n",
       "    </tr>\n",
       "    <tr>\n",
       "      <th>6</th>\n",
       "      <td>SB_J_1.1.0</td>\n",
       "      <td>At</td>\n",
       "      <td>O</td>\n",
       "      <td>O</td>\n",
       "      <td>O</td>\n",
       "      <td>O</td>\n",
       "      <td>O</td>\n",
       "      <td>O</td>\n",
       "      <td>O</td>\n",
       "      <td>O</td>\n",
       "      <td>O</td>\n",
       "    </tr>\n",
       "    <tr>\n",
       "      <th>7</th>\n",
       "      <td>SB_J_1.1.1</td>\n",
       "      <td>London,</td>\n",
       "      <td>O</td>\n",
       "      <td>B</td>\n",
       "      <td>O</td>\n",
       "      <td>O</td>\n",
       "      <td>O</td>\n",
       "      <td>O</td>\n",
       "      <td>O</td>\n",
       "      <td>O</td>\n",
       "      <td>LOCATION-B</td>\n",
       "    </tr>\n",
       "    <tr>\n",
       "      <th>8</th>\n",
       "      <td>SB_J_1.1.2</td>\n",
       "      <td>the</td>\n",
       "      <td>O</td>\n",
       "      <td>O</td>\n",
       "      <td>O</td>\n",
       "      <td>O</td>\n",
       "      <td>B</td>\n",
       "      <td>O</td>\n",
       "      <td>O</td>\n",
       "      <td>O</td>\n",
       "      <td>DATE-B</td>\n",
       "    </tr>\n",
       "    <tr>\n",
       "      <th>9</th>\n",
       "      <td>SB_J_1.1.3</td>\n",
       "      <td>12th</td>\n",
       "      <td>O</td>\n",
       "      <td>O</td>\n",
       "      <td>O</td>\n",
       "      <td>O</td>\n",
       "      <td>I</td>\n",
       "      <td>O</td>\n",
       "      <td>O</td>\n",
       "      <td>O</td>\n",
       "      <td>DATE-I</td>\n",
       "    </tr>\n",
       "  </tbody>\n",
       "</table>\n",
       "</div>"
      ],
      "text/plain": [
       "      word_id     word NAME LOCATION NATION MARKET DATE TIME PRICE GOD  \\\n",
       "0  SB_J_1.0.0       1.    O        O      O      O    O    O     O   O   \n",
       "1  SB_J_1.0.1    HOTEL    B        O      O      O    O    O     O   O   \n",
       "2  SB_J_1.0.2  JOHNSON    I        O      O      O    O    O     O   O   \n",
       "3  SB_J_1.0.3       TO    O        O      O      O    O    O     O   O   \n",
       "4  SB_J_1.0.4     JOHN    B        O      O      O    O    O     O   O   \n",
       "5  SB_J_1.0.5  JOHNSON    I        O      O      O    O    O     O   O   \n",
       "6  SB_J_1.1.0       At    O        O      O      O    O    O     O   O   \n",
       "7  SB_J_1.1.1  London,    O        B      O      O    O    O     O   O   \n",
       "8  SB_J_1.1.2      the    O        O      O      O    B    O     O   O   \n",
       "9  SB_J_1.1.3     12th    O        O      O      O    I    O     O   O   \n",
       "\n",
       "       labels  \n",
       "0           O  \n",
       "1      NAME-B  \n",
       "2      NAME-I  \n",
       "3           O  \n",
       "4      NAME-B  \n",
       "5      NAME-I  \n",
       "6           O  \n",
       "7  LOCATION-B  \n",
       "8      DATE-B  \n",
       "9      DATE-I  "
      ]
     },
     "execution_count": 22,
     "metadata": {},
     "output_type": "execute_result"
    }
   ],
   "source": [
    "# open letters, VARDed version\n",
    "\n",
    "df = pd.read_csv(v_f1t0, sep=',')\n",
    "\n",
    "# dropna() will drop empty values in word, which are a result of line breaks in the letters\n",
    "\n",
    "df = df.dropna()\n",
    "df.head(10)"
   ]
  },
  {
   "cell_type": "code",
   "execution_count": 23,
   "metadata": {},
   "outputs": [
    {
     "name": "stdout",
     "output_type": "stream",
     "text": [
      "88\n"
     ]
    },
    {
     "data": {
      "text/html": [
       "<div>\n",
       "<style scoped>\n",
       "    .dataframe tbody tr th:only-of-type {\n",
       "        vertical-align: middle;\n",
       "    }\n",
       "\n",
       "    .dataframe tbody tr th {\n",
       "        vertical-align: top;\n",
       "    }\n",
       "\n",
       "    .dataframe thead th {\n",
       "        text-align: right;\n",
       "    }\n",
       "</style>\n",
       "<table border=\"1\" class=\"dataframe\">\n",
       "  <thead>\n",
       "    <tr style=\"text-align: right;\">\n",
       "      <th></th>\n",
       "      <th>word_id</th>\n",
       "      <th>word</th>\n",
       "      <th>NAME</th>\n",
       "      <th>LOCATION</th>\n",
       "      <th>NATION</th>\n",
       "      <th>MARKET</th>\n",
       "      <th>DATE</th>\n",
       "      <th>TIME</th>\n",
       "      <th>PRICE</th>\n",
       "      <th>GOD</th>\n",
       "      <th>labels</th>\n",
       "    </tr>\n",
       "  </thead>\n",
       "  <tbody>\n",
       "    <tr>\n",
       "      <th>264</th>\n",
       "      <td>SB_J_1.3.185</td>\n",
       "      <td>how be it</td>\n",
       "      <td>O</td>\n",
       "      <td>O</td>\n",
       "      <td>O</td>\n",
       "      <td>O</td>\n",
       "      <td>O</td>\n",
       "      <td>O</td>\n",
       "      <td>O</td>\n",
       "      <td>O</td>\n",
       "      <td>O</td>\n",
       "    </tr>\n",
       "    <tr>\n",
       "      <th>555</th>\n",
       "      <td>SB_J_2.2.45</td>\n",
       "      <td>How be it,</td>\n",
       "      <td>O</td>\n",
       "      <td>O</td>\n",
       "      <td>O</td>\n",
       "      <td>O</td>\n",
       "      <td>O</td>\n",
       "      <td>O</td>\n",
       "      <td>O</td>\n",
       "      <td>O</td>\n",
       "      <td>O</td>\n",
       "    </tr>\n",
       "    <tr>\n",
       "      <th>3986</th>\n",
       "      <td>SB_J_8.2.81</td>\n",
       "      <td>how be it</td>\n",
       "      <td>O</td>\n",
       "      <td>O</td>\n",
       "      <td>O</td>\n",
       "      <td>O</td>\n",
       "      <td>O</td>\n",
       "      <td>O</td>\n",
       "      <td>O</td>\n",
       "      <td>O</td>\n",
       "      <td>O</td>\n",
       "    </tr>\n",
       "    <tr>\n",
       "      <th>4107</th>\n",
       "      <td>SB_J_8.2.202</td>\n",
       "      <td>How be it</td>\n",
       "      <td>O</td>\n",
       "      <td>O</td>\n",
       "      <td>O</td>\n",
       "      <td>O</td>\n",
       "      <td>O</td>\n",
       "      <td>O</td>\n",
       "      <td>O</td>\n",
       "      <td>O</td>\n",
       "      <td>O</td>\n",
       "    </tr>\n",
       "    <tr>\n",
       "      <th>6128</th>\n",
       "      <td>SB_J_14.4.50</td>\n",
       "      <td>How be it</td>\n",
       "      <td>O</td>\n",
       "      <td>O</td>\n",
       "      <td>O</td>\n",
       "      <td>O</td>\n",
       "      <td>O</td>\n",
       "      <td>O</td>\n",
       "      <td>O</td>\n",
       "      <td>O</td>\n",
       "      <td>O</td>\n",
       "    </tr>\n",
       "    <tr>\n",
       "      <th>6211</th>\n",
       "      <td>SB_J_14.6.28</td>\n",
       "      <td>How be it,</td>\n",
       "      <td>O</td>\n",
       "      <td>O</td>\n",
       "      <td>O</td>\n",
       "      <td>O</td>\n",
       "      <td>O</td>\n",
       "      <td>O</td>\n",
       "      <td>O</td>\n",
       "      <td>O</td>\n",
       "      <td>O</td>\n",
       "    </tr>\n",
       "    <tr>\n",
       "      <th>7563</th>\n",
       "      <td>SB_J_18.14.67</td>\n",
       "      <td>How be it,</td>\n",
       "      <td>O</td>\n",
       "      <td>O</td>\n",
       "      <td>O</td>\n",
       "      <td>O</td>\n",
       "      <td>O</td>\n",
       "      <td>O</td>\n",
       "      <td>O</td>\n",
       "      <td>O</td>\n",
       "      <td>O</td>\n",
       "    </tr>\n",
       "    <tr>\n",
       "      <th>7714</th>\n",
       "      <td>SB_J_21.6.56</td>\n",
       "      <td>Were it,</td>\n",
       "      <td>I</td>\n",
       "      <td>O</td>\n",
       "      <td>O</td>\n",
       "      <td>O</td>\n",
       "      <td>O</td>\n",
       "      <td>O</td>\n",
       "      <td>O</td>\n",
       "      <td>O</td>\n",
       "      <td>NAME-I</td>\n",
       "    </tr>\n",
       "    <tr>\n",
       "      <th>7740</th>\n",
       "      <td>SB_J_21.6.82</td>\n",
       "      <td>the other</td>\n",
       "      <td>O</td>\n",
       "      <td>O</td>\n",
       "      <td>O</td>\n",
       "      <td>O</td>\n",
       "      <td>O</td>\n",
       "      <td>O</td>\n",
       "      <td>O</td>\n",
       "      <td>O</td>\n",
       "      <td>O</td>\n",
       "    </tr>\n",
       "    <tr>\n",
       "      <th>10121</th>\n",
       "      <td>SB_J_33.7.62</td>\n",
       "      <td>As well,</td>\n",
       "      <td>O</td>\n",
       "      <td>B</td>\n",
       "      <td>O</td>\n",
       "      <td>O</td>\n",
       "      <td>O</td>\n",
       "      <td>O</td>\n",
       "      <td>O</td>\n",
       "      <td>O</td>\n",
       "      <td>LOCATION-B</td>\n",
       "    </tr>\n",
       "  </tbody>\n",
       "</table>\n",
       "</div>"
      ],
      "text/plain": [
       "             word_id        word NAME LOCATION NATION MARKET DATE TIME PRICE  \\\n",
       "264     SB_J_1.3.185   how be it    O        O      O      O    O    O     O   \n",
       "555      SB_J_2.2.45  How be it,    O        O      O      O    O    O     O   \n",
       "3986     SB_J_8.2.81   how be it    O        O      O      O    O    O     O   \n",
       "4107    SB_J_8.2.202   How be it    O        O      O      O    O    O     O   \n",
       "6128    SB_J_14.4.50   How be it    O        O      O      O    O    O     O   \n",
       "6211    SB_J_14.6.28  How be it,    O        O      O      O    O    O     O   \n",
       "7563   SB_J_18.14.67  How be it,    O        O      O      O    O    O     O   \n",
       "7714    SB_J_21.6.56    Were it,    I        O      O      O    O    O     O   \n",
       "7740    SB_J_21.6.82   the other    O        O      O      O    O    O     O   \n",
       "10121   SB_J_33.7.62    As well,    O        B      O      O    O    O     O   \n",
       "\n",
       "      GOD      labels  \n",
       "264     O           O  \n",
       "555     O           O  \n",
       "3986    O           O  \n",
       "4107    O           O  \n",
       "6128    O           O  \n",
       "6211    O           O  \n",
       "7563    O           O  \n",
       "7714    O      NAME-I  \n",
       "7740    O           O  \n",
       "10121   O  LOCATION-B  "
      ]
     },
     "execution_count": 23,
     "metadata": {},
     "output_type": "execute_result"
    }
   ],
   "source": [
    "# VARD has transformed some single words into multiple words\n",
    "\n",
    "# these will be tokenized by spaCy, thus we need to preventitvely pre-tokenise them, allocating one word per row\n",
    "\n",
    "# this will preserve associated true labels and in turn the length of the true data and spaCy data\n",
    "\n",
    "df_whitespace_rows = df[df['word'].str.contains('\\s')]\n",
    "print(len(df[df['word'].str.contains('\\s')]))\n",
    "df_whitespace_rows.head(10)"
   ]
  },
  {
   "cell_type": "code",
   "execution_count": 24,
   "metadata": {},
   "outputs": [],
   "source": [
    "# because VARD has replaced some single tokens with multiple tokens we need to first adjust the word indexing in word_id\n",
    "\n",
    "# to accomodate this we split any word values with whitespace on whitespace creating new rows and sensibly update the BIO labels\n",
    "\n",
    "new_rows = []\n",
    "for index, row in df.iterrows():\n",
    "    tokens = row['word'].split()\n",
    "    if len(tokens) ==1:\n",
    "        row['token'] = row['word']\n",
    "        new_rows.append(row)\n",
    "    else:\n",
    "        for i, token in enumerate(tokens):\n",
    "            row_copy = df.loc[index].copy()\n",
    "            row_copy['token'] = token\n",
    "            cols = ['NAME', 'LOCATION', 'NATION', 'MARKET', 'DATE', 'TIME', 'PRICE', 'GOD']\n",
    "            if i > 0:\n",
    "                for column in cols:\n",
    "                    if row_copy[column] == 'B':\n",
    "                        row_copy[column] = 'I'\n",
    "                row_copy['word_id'] += f'.{i}'\n",
    "                row_copy['word'] = ''\n",
    "            new_rows.append(row_copy)\n",
    "\n",
    "# add new row of tokenized words to df\n",
    "\n",
    "df = pd.concat(new_rows, axis=1).transpose().reset_index(drop=True)\n",
    "\n",
    "# reorder the columns for readability\n",
    "\n",
    "df.insert(2, 'token', df.pop('token'))"
   ]
  },
  {
   "cell_type": "code",
   "execution_count": 25,
   "metadata": {},
   "outputs": [
    {
     "name": "stdout",
     "output_type": "stream",
     "text": [
      "0\n"
     ]
    }
   ],
   "source": [
    "# check for the presence of tokens with whitespace\n",
    "\n",
    "print(len(df[df['token'].str.contains('\\s')]))"
   ]
  },
  {
   "cell_type": "code",
   "execution_count": 26,
   "metadata": {},
   "outputs": [],
   "source": [
    "# replace 'labels' column with updated labels following the reindexing of the df\n",
    "\n",
    "targets = ['NAME', 'LOCATION', 'NATION', 'MARKET', 'DATE', 'TIME', 'PRICE', 'GOD']\n",
    "\n",
    "df['labels'] = df[targets].apply(lambda row: next((col + '-B' for col in targets if row[col] == 'B'),\n",
    "                                                    next((col + '-I' for col in targets if row[col] == 'I'), 'O')), axis=1)"
   ]
  },
  {
   "cell_type": "code",
   "execution_count": 27,
   "metadata": {},
   "outputs": [],
   "source": [
    "# create json file of sentences from VARDed letters to pass to spaCy\n",
    "\n",
    "# note that this isn't a well-formed json file; we will dump the list of strings directly to the file\n",
    "\n",
    "# new lines end with an index of \".0\"\n",
    "\n",
    "v_words = [list(g['token']) for k, g in\n",
    "       df.groupby(df['word_id'].str.endswith('.0').cumsum())]\n",
    "\n",
    "full_strings = [' '.join(lst) for lst in v_words]\n",
    "\n",
    "with open('v_f1t0.json', 'w') as file:\n",
    "    json.dump(full_strings, file, indent=4)"
   ]
  },
  {
   "cell_type": "code",
   "execution_count": 28,
   "metadata": {},
   "outputs": [],
   "source": [
    "# open json file and prepare data for reconciling spaCy tokenization with true label enumeration\n",
    "\n",
    "with open(\"v_f1t0.json\") as f:\n",
    "    data = json.load(f)\n",
    "\n",
    "# process letters with spaCy to create list of tuples with index\n",
    "\n",
    "# prepare the letters for reconciliation with labels based on character index\n",
    "\n",
    "spacy_v_f1t0 = []\n",
    "v_f1t0_raw = []\n",
    "for line in data:\n",
    "    v_f1t0_raw.append(line)\n",
    "    l = indexed_process_text(line)\n",
    "    spacy_v_f1t0.append(l)"
   ]
  },
  {
   "cell_type": "code",
   "execution_count": 29,
   "metadata": {},
   "outputs": [
    {
     "data": {
      "text/plain": [
       "('1. HOTEL JOHNSON TO JOHN JOHNSON',\n",
       " [(0, 'O', '1'),\n",
       "  (1, 'O', '.'),\n",
       "  (3, 'ORG-B', 'HOTEL'),\n",
       "  (9, 'O', 'JOHNSON'),\n",
       "  (17, 'O', 'TO'),\n",
       "  (20, 'PERSON-B', 'JOHN'),\n",
       "  (25, 'PERSON-I', 'JOHNSON')],\n",
       " 'End. 1552, from George Perth at Calais, 13 March; received at London le 17; answered le died.',\n",
       " [(0, 'O', 'End'),\n",
       "  (3, 'O', '.'),\n",
       "  (5, 'DATE-B', '1552'),\n",
       "  (9, 'O', ','),\n",
       "  (11, 'O', 'from'),\n",
       "  (16, 'PERSON-B', 'George'),\n",
       "  (23, 'PERSON-I', 'Perth'),\n",
       "  (29, 'O', 'at'),\n",
       "  (32, 'GPE-B', 'Calais'),\n",
       "  (38, 'O', ','),\n",
       "  (40, 'DATE-B', '13'),\n",
       "  (43, 'DATE-I', 'March'),\n",
       "  (48, 'O', ';'),\n",
       "  (50, 'O', 'received'),\n",
       "  (59, 'O', 'at'),\n",
       "  (62, 'GPE-B', 'London'),\n",
       "  (69, 'O', 'le'),\n",
       "  (72, 'O', '17'),\n",
       "  (74, 'O', ';'),\n",
       "  (76, 'O', 'answered'),\n",
       "  (85, 'O', 'le'),\n",
       "  (88, 'O', 'died'),\n",
       "  (92, 'O', '.')])"
      ]
     },
     "execution_count": 29,
     "metadata": {},
     "output_type": "execute_result"
    }
   ],
   "source": [
    "# check the output lists\n",
    "\n",
    "v_f1t0_raw[0], spacy_v_f1t0[0], v_f1t0_raw[-1], spacy_v_f1t0[-1]"
   ]
  },
  {
   "cell_type": "code",
   "execution_count": 30,
   "metadata": {},
   "outputs": [],
   "source": [
    "# reconcile spaCy NER with enumeration of true labelling\n",
    "\n",
    "spacy_wd_labels_v = []\n",
    "for i in range(len(spacy_v_f1t0)):\n",
    "    it = get_tokens(spacy_v_f1t0[i])\n",
    "    next(it)\n",
    "    out = [it.send(w) for w in v_f1t0_raw[i].split()]\n",
    "    spacy_wd_labels_v.append(out)"
   ]
  },
  {
   "cell_type": "code",
   "execution_count": 31,
   "metadata": {},
   "outputs": [
    {
     "data": {
      "text/plain": [
       "([('1.', 'O'),\n",
       "  ('HOTEL', 'ORG-B'),\n",
       "  ('JOHNSON', 'O'),\n",
       "  ('TO', 'O'),\n",
       "  ('JOHN', 'PERSON-B'),\n",
       "  ('JOHNSON', 'PERSON-I')],\n",
       " [('End.', 'O'),\n",
       "  ('1552,', 'DATE-B'),\n",
       "  ('from', 'O'),\n",
       "  ('George', 'PERSON-B'),\n",
       "  ('Perth', 'PERSON-I'),\n",
       "  ('at', 'O'),\n",
       "  ('Calais,', 'GPE-B'),\n",
       "  ('13', 'DATE-B'),\n",
       "  ('March;', 'DATE-I'),\n",
       "  ('received', 'O'),\n",
       "  ('at', 'O'),\n",
       "  ('London', 'GPE-B'),\n",
       "  ('le', 'O'),\n",
       "  ('17;', 'O'),\n",
       "  ('answered', 'O'),\n",
       "  ('le', 'O'),\n",
       "  ('died.', 'O')])"
      ]
     },
     "execution_count": 31,
     "metadata": {},
     "output_type": "execute_result"
    }
   ],
   "source": [
    "# initial check of spaCy's labels\n",
    "\n",
    "spacy_wd_labels_v[0], spacy_wd_labels_v[-1]"
   ]
  },
  {
   "cell_type": "code",
   "execution_count": 32,
   "metadata": {},
   "outputs": [
    {
     "data": {
      "text/plain": [
       "([('1.', 'O'),\n",
       "  ('HOTEL', 'NAME-B'),\n",
       "  ('JOHNSON', 'NAME-I'),\n",
       "  ('TO', 'O'),\n",
       "  ('JOHN', 'NAME-B'),\n",
       "  ('JOHNSON', 'NAME-I')],\n",
       " [('End.', 'O'),\n",
       "  ('1552,', 'DATE-B'),\n",
       "  ('from', 'O'),\n",
       "  ('George', 'NAME-B'),\n",
       "  ('Perth', 'NAME-I'),\n",
       "  ('at', 'O'),\n",
       "  ('Calais,', 'LOCATION-B'),\n",
       "  ('13', 'DATE-B'),\n",
       "  ('March;', 'DATE-I'),\n",
       "  ('received', 'O'),\n",
       "  ('at', 'O'),\n",
       "  ('London', 'LOCATION-B'),\n",
       "  ('le', 'DATE-B'),\n",
       "  ('17;', 'DATE-I'),\n",
       "  ('answered', 'O'),\n",
       "  ('le', 'DATE-B'),\n",
       "  ('died.', 'DATE-I')])"
      ]
     },
     "execution_count": 32,
     "metadata": {},
     "output_type": "execute_result"
    }
   ],
   "source": [
    "# format list of true labels per sentence using 'token' column in order to check that lengths match\n",
    "\n",
    "true_labels_sentences = [list(zip(g['token'], g['labels'])) for k, g in\n",
    "       df.groupby(df['word_id'].str.endswith('.0').cumsum())]\n",
    "\n",
    "# check output\n",
    "\n",
    "true_labels_sentences[0], true_labels_sentences[-1]"
   ]
  },
  {
   "cell_type": "code",
   "execution_count": 33,
   "metadata": {},
   "outputs": [],
   "source": [
    "# check that the length of the true labels and spaCy labels are identical, sentence/line at a time\n",
    "\n",
    "for f, g in zip(true_labels_sentences, spacy_wd_labels_v):\n",
    "    if len(f) != len(g):\n",
    "        print(f, g)"
   ]
  },
  {
   "cell_type": "code",
   "execution_count": 34,
   "metadata": {},
   "outputs": [],
   "source": [
    "# check for misordered tags, i.e. 'I' before 'B' as a result of reconciling spaCy NER\n",
    "\n",
    "for f,sublist in enumerate(spacy_wd_labels_v):\n",
    "    for i in range(len(sublist) - 1):\n",
    "        current_tuple = sublist[i]\n",
    "        next_tuple = sublist[i + 1]\n",
    "        previous_tuple = sublist[i - 1]\n",
    "        \n",
    "        if current_tuple[1].endswith('I') and next_tuple[1].endswith('B') and current_tuple[1][:2] == next_tuple[1][:2]:\n",
    "            if current_tuple[1].endswith('I') and not previous_tuple[1].endswith('B'):\n",
    "                if current_tuple[1][:2] != previous_tuple[1][:2]:\n",
    "                    print(f\"index: {f}\")"
   ]
  },
  {
   "cell_type": "code",
   "execution_count": 35,
   "metadata": {},
   "outputs": [],
   "source": [
    "# prepare spaCy labels for evaluation by tranforming to list\n",
    "\n",
    "spacy_labels = [t[1] for sublist in spacy_wd_labels_v for t in sublist]"
   ]
  },
  {
   "cell_type": "code",
   "execution_count": 36,
   "metadata": {},
   "outputs": [],
   "source": [
    "# transform spaCy labels to match that of true labels\n",
    "\n",
    "transform_spacy_labels(spacy_labels)"
   ]
  },
  {
   "cell_type": "code",
   "execution_count": 37,
   "metadata": {},
   "outputs": [],
   "source": [
    "# prepare true labels, given that we are only creating a baseline for 'NAME', 'LOCATION', 'NATION', 'DATE', 'PRICE'\n",
    "\n",
    "# we do not need 'GOD', 'MARKET', 'TIME'\n",
    "\n",
    "df['labels'] = df['labels'].replace(['GOD-B', 'GOD-I', 'MARKET-B', 'MARKET-I', 'TIME-B', 'TIME-I'], 'O')\n",
    "\n",
    "true_labels = df['labels'].tolist()"
   ]
  },
  {
   "cell_type": "code",
   "execution_count": 38,
   "metadata": {},
   "outputs": [],
   "source": [
    "# prepare labels\n",
    "\n",
    "labels = sorted(list(set(df['labels'])))"
   ]
  },
  {
   "attachments": {},
   "cell_type": "markdown",
   "metadata": {},
   "source": [
    "##### Evaluation"
   ]
  },
  {
   "cell_type": "code",
   "execution_count": 39,
   "metadata": {},
   "outputs": [
    {
     "name": "stdout",
     "output_type": "stream",
     "text": [
      "accuracy: 0.9020755234525006\n",
      "f1 average: 0.3194398858553501\n",
      "\n",
      "precision: [0.15592516 0.5148248  0.52414681 0.09071274 0.48441797 0.75884956\n",
      " 0.2278481  0.         0.94744068 0.5        0.41666667]\n",
      "recall: [0.25553663 0.24902216 0.70537262 0.44210526 0.48154897 0.45753668\n",
      " 0.16216216 0.         0.97310495 0.00681431 0.00798722]\n",
      "f1: [0.19367334 0.33567663 0.60140377 0.15053763 0.48297921 0.57087379\n",
      " 0.18947368 0.         0.96010134 0.01344538 0.01567398]\n",
      "\n",
      "              precision    recall  f1-score   support\n",
      "\n",
      "      DATE-B       0.16      0.26      0.19       587\n",
      "      DATE-I       0.51      0.25      0.34      1534\n",
      "  LOCATION-B       0.52      0.71      0.60      1154\n",
      "  LOCATION-I       0.09      0.44      0.15        95\n",
      "      NAME-B       0.48      0.48      0.48      2195\n",
      "      NAME-I       0.76      0.46      0.57      2249\n",
      "    NATION-B       0.23      0.16      0.19       111\n",
      "    NATION-I       0.00      0.00      0.00        48\n",
      "           O       0.95      0.97      0.96     67373\n",
      "     PRICE-B       0.50      0.01      0.01       587\n",
      "     PRICE-I       0.42      0.01      0.02       626\n",
      "\n",
      "    accuracy                           0.90     76559\n",
      "   macro avg       0.42      0.34      0.32     76559\n",
      "weighted avg       0.90      0.90      0.89     76559\n",
      "\n"
     ]
    },
    {
     "data": {
      "image/png": "[encoded data removed]",
      "text/plain": [
       "<Figure size 900x700 with 2 Axes>"
      ]
     },
     "metadata": {},
     "output_type": "display_data"
    }
   ],
   "source": [
    "evaluator(true_labels, spacy_labels, labels, size='big')"
   ]
  },
  {
   "attachments": {},
   "cell_type": "markdown",
   "metadata": {},
   "source": [
    "# Lexical Look-Up + Regular Expression Baseline"
   ]
  },
  {
   "attachments": {},
   "cell_type": "markdown",
   "metadata": {},
   "source": [
    "#### Using `raw_ner_corpus`\n",
    "$\\to$ processing entire NER Subcorpus\\\n",
    "$\\to$ matches reconciled with true labelling for entire NER corpus\\\n",
    "\n",
    "$\\to$ lexical look-up: `NAME`, `LOCATION`, `NATION`, `MARKET`, `TIME`, `GOD`\\\n",
    "$\\to$ regular expression: `DATE`, `PRICE` "
   ]
  },
  {
   "cell_type": "code",
   "execution_count": 40,
   "metadata": {},
   "outputs": [],
   "source": [
    "# set local split for splitter function for the notebook\n",
    "\n",
    "splitter_split = 0.8"
   ]
  },
  {
   "attachments": {},
   "cell_type": "markdown",
   "metadata": {},
   "source": [
    "##### Lexical look-up: `NAME`"
   ]
  },
  {
   "cell_type": "code",
   "execution_count": 41,
   "metadata": {},
   "outputs": [
    {
     "data": {
      "text/html": [
       "<div>\n",
       "<style scoped>\n",
       "    .dataframe tbody tr th:only-of-type {\n",
       "        vertical-align: middle;\n",
       "    }\n",
       "\n",
       "    .dataframe tbody tr th {\n",
       "        vertical-align: top;\n",
       "    }\n",
       "\n",
       "    .dataframe thead th {\n",
       "        text-align: right;\n",
       "    }\n",
       "</style>\n",
       "<table border=\"1\" class=\"dataframe\">\n",
       "  <thead>\n",
       "    <tr style=\"text-align: right;\">\n",
       "      <th></th>\n",
       "      <th>word_id</th>\n",
       "      <th>word</th>\n",
       "      <th>NAME</th>\n",
       "      <th>LOCATION</th>\n",
       "      <th>NATION</th>\n",
       "      <th>MARKET</th>\n",
       "      <th>DATE</th>\n",
       "      <th>TIME</th>\n",
       "      <th>PRICE</th>\n",
       "      <th>GOD</th>\n",
       "      <th>labels</th>\n",
       "    </tr>\n",
       "  </thead>\n",
       "  <tbody>\n",
       "    <tr>\n",
       "      <th>0</th>\n",
       "      <td>SB_J_1.0.0</td>\n",
       "      <td>1.</td>\n",
       "      <td>O</td>\n",
       "      <td>O</td>\n",
       "      <td>O</td>\n",
       "      <td>O</td>\n",
       "      <td>O</td>\n",
       "      <td>O</td>\n",
       "      <td>O</td>\n",
       "      <td>O</td>\n",
       "      <td>O</td>\n",
       "    </tr>\n",
       "    <tr>\n",
       "      <th>1</th>\n",
       "      <td>SB_J_1.0.1</td>\n",
       "      <td>OTWELL</td>\n",
       "      <td>B</td>\n",
       "      <td>O</td>\n",
       "      <td>O</td>\n",
       "      <td>O</td>\n",
       "      <td>O</td>\n",
       "      <td>O</td>\n",
       "      <td>O</td>\n",
       "      <td>O</td>\n",
       "      <td>NAME-B</td>\n",
       "    </tr>\n",
       "    <tr>\n",
       "      <th>2</th>\n",
       "      <td>SB_J_1.0.2</td>\n",
       "      <td>JOHNSON</td>\n",
       "      <td>I</td>\n",
       "      <td>O</td>\n",
       "      <td>O</td>\n",
       "      <td>O</td>\n",
       "      <td>O</td>\n",
       "      <td>O</td>\n",
       "      <td>O</td>\n",
       "      <td>O</td>\n",
       "      <td>NAME-I</td>\n",
       "    </tr>\n",
       "    <tr>\n",
       "      <th>3</th>\n",
       "      <td>SB_J_1.0.3</td>\n",
       "      <td>TO</td>\n",
       "      <td>O</td>\n",
       "      <td>O</td>\n",
       "      <td>O</td>\n",
       "      <td>O</td>\n",
       "      <td>O</td>\n",
       "      <td>O</td>\n",
       "      <td>O</td>\n",
       "      <td>O</td>\n",
       "      <td>O</td>\n",
       "    </tr>\n",
       "    <tr>\n",
       "      <th>4</th>\n",
       "      <td>SB_J_1.0.4</td>\n",
       "      <td>JOHN</td>\n",
       "      <td>B</td>\n",
       "      <td>O</td>\n",
       "      <td>O</td>\n",
       "      <td>O</td>\n",
       "      <td>O</td>\n",
       "      <td>O</td>\n",
       "      <td>O</td>\n",
       "      <td>O</td>\n",
       "      <td>NAME-B</td>\n",
       "    </tr>\n",
       "    <tr>\n",
       "      <th>5</th>\n",
       "      <td>SB_J_1.0.5</td>\n",
       "      <td>JOHNSON</td>\n",
       "      <td>I</td>\n",
       "      <td>O</td>\n",
       "      <td>O</td>\n",
       "      <td>O</td>\n",
       "      <td>O</td>\n",
       "      <td>O</td>\n",
       "      <td>O</td>\n",
       "      <td>O</td>\n",
       "      <td>NAME-I</td>\n",
       "    </tr>\n",
       "    <tr>\n",
       "      <th>6</th>\n",
       "      <td>SB_J_1.1.0</td>\n",
       "      <td>At</td>\n",
       "      <td>O</td>\n",
       "      <td>O</td>\n",
       "      <td>O</td>\n",
       "      <td>O</td>\n",
       "      <td>O</td>\n",
       "      <td>O</td>\n",
       "      <td>O</td>\n",
       "      <td>O</td>\n",
       "      <td>O</td>\n",
       "    </tr>\n",
       "    <tr>\n",
       "      <th>7</th>\n",
       "      <td>SB_J_1.1.1</td>\n",
       "      <td>London,</td>\n",
       "      <td>O</td>\n",
       "      <td>B</td>\n",
       "      <td>O</td>\n",
       "      <td>O</td>\n",
       "      <td>O</td>\n",
       "      <td>O</td>\n",
       "      <td>O</td>\n",
       "      <td>O</td>\n",
       "      <td>LOCATION-B</td>\n",
       "    </tr>\n",
       "    <tr>\n",
       "      <th>8</th>\n",
       "      <td>SB_J_1.1.2</td>\n",
       "      <td>the</td>\n",
       "      <td>O</td>\n",
       "      <td>O</td>\n",
       "      <td>O</td>\n",
       "      <td>O</td>\n",
       "      <td>B</td>\n",
       "      <td>O</td>\n",
       "      <td>O</td>\n",
       "      <td>O</td>\n",
       "      <td>DATE-B</td>\n",
       "    </tr>\n",
       "    <tr>\n",
       "      <th>9</th>\n",
       "      <td>SB_J_1.1.3</td>\n",
       "      <td>12th</td>\n",
       "      <td>O</td>\n",
       "      <td>O</td>\n",
       "      <td>O</td>\n",
       "      <td>O</td>\n",
       "      <td>I</td>\n",
       "      <td>O</td>\n",
       "      <td>O</td>\n",
       "      <td>O</td>\n",
       "      <td>DATE-I</td>\n",
       "    </tr>\n",
       "  </tbody>\n",
       "</table>\n",
       "</div>"
      ],
      "text/plain": [
       "      word_id     word NAME LOCATION NATION MARKET DATE TIME PRICE GOD  \\\n",
       "0  SB_J_1.0.0       1.    O        O      O      O    O    O     O   O   \n",
       "1  SB_J_1.0.1   OTWELL    B        O      O      O    O    O     O   O   \n",
       "2  SB_J_1.0.2  JOHNSON    I        O      O      O    O    O     O   O   \n",
       "3  SB_J_1.0.3       TO    O        O      O      O    O    O     O   O   \n",
       "4  SB_J_1.0.4     JOHN    B        O      O      O    O    O     O   O   \n",
       "5  SB_J_1.0.5  JOHNSON    I        O      O      O    O    O     O   O   \n",
       "6  SB_J_1.1.0       At    O        O      O      O    O    O     O   O   \n",
       "7  SB_J_1.1.1  London,    O        B      O      O    O    O     O   O   \n",
       "8  SB_J_1.1.2      the    O        O      O      O    B    O     O   O   \n",
       "9  SB_J_1.1.3     12th    O        O      O      O    I    O     O   O   \n",
       "\n",
       "       labels  \n",
       "0           O  \n",
       "1      NAME-B  \n",
       "2      NAME-I  \n",
       "3           O  \n",
       "4      NAME-B  \n",
       "5      NAME-I  \n",
       "6           O  \n",
       "7  LOCATION-B  \n",
       "8      DATE-B  \n",
       "9      DATE-I  "
      ]
     },
     "execution_count": 41,
     "metadata": {},
     "output_type": "execute_result"
    }
   ],
   "source": [
    "# open the original letters to retrieve labels\n",
    "\n",
    "df = pd.read_csv(raw_ner_corpus, sep=',')\n",
    "\n",
    "# dropna() will drop empty values in word, which are a result of line breaks in the letters\n",
    "\n",
    "df = df.dropna()\n",
    "df.head(10)"
   ]
  },
  {
   "cell_type": "code",
   "execution_count": 42,
   "metadata": {},
   "outputs": [],
   "source": [
    "# construct list of lists of tuples, with each list of tuples representing one sentence and its labels\n",
    "\n",
    "raw_data = [list(zip(g['word'], g['NAME'])) for k, g in \n",
    "            df.groupby(df['word_id'].str.endswith('.0').cumsum())]\n",
    "\n",
    "# shuffle data\n",
    "\n",
    "random.shuffle(raw_data)"
   ]
  },
  {
   "cell_type": "code",
   "execution_count": 43,
   "metadata": {},
   "outputs": [
    {
     "name": "stdout",
     "output_type": "stream",
     "text": [
      "Desired split: 0.8\n",
      "Actual split: 0.8\n"
     ]
    },
    {
     "data": {
      "text/plain": [
       "(1692, 1319, 373)"
      ]
     },
     "execution_count": 43,
     "metadata": {},
     "output_type": "execute_result"
    }
   ],
   "source": [
    "# split the data into train and test\n",
    "\n",
    "dist = get_distribution(raw_data)\n",
    "train_bin, test_bin = splitter(raw_data, splitter_split, dist)\n",
    "len(raw_data), len(train_bin), len(test_bin)"
   ]
  },
  {
   "cell_type": "code",
   "execution_count": 44,
   "metadata": {},
   "outputs": [
    {
     "data": {
      "text/plain": [
       "(15, 9, 4, 15, 9, 4)"
      ]
     },
     "execution_count": 44,
     "metadata": {},
     "output_type": "execute_result"
    }
   ],
   "source": [
    "# preprocess training and test data\n",
    "\n",
    "train_bin = preprocess_for_lexical(train_bin)\n",
    "test_bin = preprocess_for_lexical(test_bin)\n",
    "\n",
    "# make lexicon for labels\n",
    "\n",
    "lexical_dict = lexi_maker(train_bin)\n",
    "\n",
    "# make predictions\n",
    "\n",
    "name_pred = predict_labels(test_bin, lexical_dict)\n",
    "\n",
    "# check that lengths match\n",
    "\n",
    "len(name_pred[0]), len(name_pred[1]), len(name_pred[2]), len(test_bin[0]), len(test_bin[1]), len(test_bin[2])"
   ]
  },
  {
   "cell_type": "code",
   "execution_count": 45,
   "metadata": {},
   "outputs": [],
   "source": [
    "# create list of predictions\n",
    "\n",
    "name_preds = [f[1] for sublist in name_pred for f in sublist]\n",
    "\n",
    "# create list of true labels\n",
    "\n",
    "name_true = [f[1] for sublist in test_bin for f in sublist]\n",
    "\n",
    "# prepare labels\n",
    "\n",
    "labels = ['B', 'I', 'O']"
   ]
  },
  {
   "attachments": {},
   "cell_type": "markdown",
   "metadata": {},
   "source": [
    "##### Evaluation"
   ]
  },
  {
   "cell_type": "code",
   "execution_count": 46,
   "metadata": {},
   "outputs": [
    {
     "name": "stdout",
     "output_type": "stream",
     "text": [
      "accuracy: 0.8544165435745938\n",
      "f1 average: 0.5404045904758364\n",
      "\n",
      "precision: [0.2187858  0.23904382 0.98958633]\n",
      "recall: [0.87015945 0.66518847 0.85930776]\n",
      "f1: [0.34965675 0.35169988 0.91985714]\n",
      "\n",
      "              precision    recall  f1-score   support\n",
      "\n",
      "           B       0.22      0.87      0.35       439\n",
      "           I       0.24      0.67      0.35       451\n",
      "           O       0.99      0.86      0.92     16035\n",
      "\n",
      "    accuracy                           0.85     16925\n",
      "   macro avg       0.48      0.80      0.54     16925\n",
      "weighted avg       0.95      0.85      0.89     16925\n",
      "\n"
     ]
    },
    {
     "data": {
      "image/png": "[encoded data removed]",
      "text/plain": [
       "<Figure size 640x480 with 2 Axes>"
      ]
     },
     "metadata": {},
     "output_type": "display_data"
    }
   ],
   "source": [
    "evaluator(name_true, name_preds, labels)"
   ]
  },
  {
   "attachments": {},
   "cell_type": "markdown",
   "metadata": {},
   "source": [
    "##### Lexical look-up: `LOCATION`"
   ]
  },
  {
   "cell_type": "code",
   "execution_count": 47,
   "metadata": {},
   "outputs": [],
   "source": [
    "# construct list of lists of tuples, with each list of tuples representing one sentence and its labels\n",
    "\n",
    "raw_data = [list(zip(g['word'], g['LOCATION'])) for k, g in \n",
    "            df.groupby(df['word_id'].str.endswith('.0').cumsum())]\n",
    "\n",
    "# shuffle data\n",
    "\n",
    "random.shuffle(raw_data)"
   ]
  },
  {
   "cell_type": "code",
   "execution_count": 48,
   "metadata": {},
   "outputs": [
    {
     "name": "stdout",
     "output_type": "stream",
     "text": [
      "Desired split: 0.8\n",
      "Actual split: 0.8016\n"
     ]
    },
    {
     "data": {
      "text/plain": [
       "(1692, 1370, 322)"
      ]
     },
     "execution_count": 48,
     "metadata": {},
     "output_type": "execute_result"
    }
   ],
   "source": [
    "# split the data into train and test\n",
    "\n",
    "dist = get_distribution(raw_data)\n",
    "train_bin, test_bin = splitter(raw_data, splitter_split, dist)\n",
    "len(raw_data), len(train_bin), len(test_bin)"
   ]
  },
  {
   "cell_type": "code",
   "execution_count": 49,
   "metadata": {},
   "outputs": [
    {
     "data": {
      "text/plain": [
       "(4, 362, 3, 4, 362, 3)"
      ]
     },
     "execution_count": 49,
     "metadata": {},
     "output_type": "execute_result"
    }
   ],
   "source": [
    "# preprocess training and test data\n",
    "\n",
    "train_bin = preprocess_for_lexical(train_bin)\n",
    "test_bin = preprocess_for_lexical(test_bin)\n",
    "\n",
    "# make lexicon for labels\n",
    "\n",
    "lexical_dict = lexi_maker(train_bin)\n",
    "\n",
    "# make predictions\n",
    "\n",
    "loc_pred = predict_labels(test_bin, lexical_dict)\n",
    "\n",
    "# check lengths\n",
    "\n",
    "len(loc_pred[0]), len(loc_pred[1]), len(loc_pred[2]), len(test_bin[0]), len(test_bin[1]), len(test_bin[2])"
   ]
  },
  {
   "cell_type": "code",
   "execution_count": 50,
   "metadata": {},
   "outputs": [],
   "source": [
    "# create list of predictions\n",
    "\n",
    "loc_preds = [f[1] for sublist in loc_pred for f in sublist]\n",
    "\n",
    "# create list of true labels\n",
    "\n",
    "loc_true = [f[1] for sublist in test_bin for f in sublist]"
   ]
  },
  {
   "attachments": {},
   "cell_type": "markdown",
   "metadata": {},
   "source": [
    "##### Evaluation"
   ]
  },
  {
   "cell_type": "code",
   "execution_count": 51,
   "metadata": {},
   "outputs": [
    {
     "name": "stdout",
     "output_type": "stream",
     "text": [
      "accuracy: 0.9048961333415038\n",
      "f1 average: 0.4294837886140406\n",
      "\n",
      "precision: [0.1971831  0.01195219 0.99542443]\n",
      "recall: [0.79475983 0.26470588 0.90782262]\n",
      "f1: [0.31597222 0.02287166 0.94960748]\n",
      "\n",
      "              precision    recall  f1-score   support\n",
      "\n",
      "           B       0.20      0.79      0.32       229\n",
      "           I       0.01      0.26      0.02        34\n",
      "           O       1.00      0.91      0.95     16056\n",
      "\n",
      "    accuracy                           0.90     16319\n",
      "   macro avg       0.40      0.66      0.43     16319\n",
      "weighted avg       0.98      0.90      0.94     16319\n",
      "\n"
     ]
    },
    {
     "data": {
      "image/png": "[encoded data removed]",
      "text/plain": [
       "<Figure size 640x480 with 2 Axes>"
      ]
     },
     "metadata": {},
     "output_type": "display_data"
    }
   ],
   "source": [
    "evaluator(loc_true, loc_preds, labels)"
   ]
  },
  {
   "attachments": {},
   "cell_type": "markdown",
   "metadata": {},
   "source": [
    "##### Lexical look-up: `NATION`"
   ]
  },
  {
   "cell_type": "code",
   "execution_count": 52,
   "metadata": {},
   "outputs": [],
   "source": [
    "# construct list of lists of tuples, with each list of tuples representing one sentence and its labels\n",
    "\n",
    "raw_data = [list(zip(g['word'], g['NATION'])) for k, g in \n",
    "            df.groupby(df['word_id'].str.endswith('.0').cumsum())]\n",
    "\n",
    "# shuffle data\n",
    "\n",
    "random.shuffle(raw_data)"
   ]
  },
  {
   "cell_type": "code",
   "execution_count": 53,
   "metadata": {},
   "outputs": [
    {
     "name": "stdout",
     "output_type": "stream",
     "text": [
      "Desired split: 0.8\n",
      "Actual split: 0.8018\n"
     ]
    },
    {
     "data": {
      "text/plain": [
       "(1692, 1398, 294)"
      ]
     },
     "execution_count": 53,
     "metadata": {},
     "output_type": "execute_result"
    }
   ],
   "source": [
    "# split the data into train and test\n",
    "\n",
    "dist = get_distribution(raw_data)\n",
    "train_bin, test_bin = splitter(raw_data, splitter_split, dist)\n",
    "len(raw_data), len(train_bin), len(test_bin)"
   ]
  },
  {
   "cell_type": "code",
   "execution_count": 54,
   "metadata": {},
   "outputs": [
    {
     "data": {
      "text/plain": [
       "(118, 11, 87, 118, 11, 87)"
      ]
     },
     "execution_count": 54,
     "metadata": {},
     "output_type": "execute_result"
    }
   ],
   "source": [
    "# preprocess training and test data\n",
    "\n",
    "train_bin = preprocess_for_lexical(train_bin)\n",
    "test_bin = preprocess_for_lexical(test_bin)\n",
    "\n",
    "# make lexicon for labels\n",
    "\n",
    "lexical_dict = lexi_maker(train_bin)\n",
    "\n",
    "# make predictions\n",
    "\n",
    "nat_pred = predict_labels(test_bin, lexical_dict)\n",
    "\n",
    "# check lengths\n",
    "\n",
    "len(nat_pred[0]), len(nat_pred[1]), len(nat_pred[2]), len(test_bin[0]), len(test_bin[1]), len(test_bin[2])"
   ]
  },
  {
   "cell_type": "code",
   "execution_count": 55,
   "metadata": {},
   "outputs": [],
   "source": [
    "# create list of predictions\n",
    "\n",
    "nat_preds = [f[1] for sublist in nat_pred for f in sublist]\n",
    "\n",
    "# create list of true labels\n",
    "\n",
    "nat_true = [f[1] for sublist in test_bin for f in sublist]"
   ]
  },
  {
   "attachments": {},
   "cell_type": "markdown",
   "metadata": {},
   "source": [
    "##### Evaluation"
   ]
  },
  {
   "cell_type": "code",
   "execution_count": 56,
   "metadata": {},
   "outputs": [
    {
     "name": "stdout",
     "output_type": "stream",
     "text": [
      "accuracy: 0.9529368843487778\n",
      "f1 average: 0.4409172325449307\n",
      "\n",
      "precision: [0.02018634 0.66666667 0.99900444]\n",
      "recall: [0.59090909 0.2        0.95407007]\n",
      "f1: [0.03903904 0.30769231 0.97602035]\n",
      "\n",
      "              precision    recall  f1-score   support\n",
      "\n",
      "           B       0.02      0.59      0.04        22\n",
      "           I       0.67      0.20      0.31        10\n",
      "           O       1.00      0.95      0.98     13673\n",
      "\n",
      "    accuracy                           0.95     13705\n",
      "   macro avg       0.56      0.58      0.44     13705\n",
      "weighted avg       1.00      0.95      0.97     13705\n",
      "\n"
     ]
    },
    {
     "data": {
      "image/png": "[encoded data removed]",
      "text/plain": [
       "<Figure size 640x480 with 2 Axes>"
      ]
     },
     "metadata": {},
     "output_type": "display_data"
    }
   ],
   "source": [
    "evaluator(nat_true, nat_preds, labels)"
   ]
  },
  {
   "attachments": {},
   "cell_type": "markdown",
   "metadata": {},
   "source": [
    "##### Lexical look-up: `MARKET`"
   ]
  },
  {
   "cell_type": "code",
   "execution_count": 57,
   "metadata": {},
   "outputs": [],
   "source": [
    "# construct list of lists of tuples, with each list of tuples representing one sentence and its labels\n",
    "\n",
    "raw_data = [list(zip(g['word'], g['MARKET'])) for k, g in \n",
    "            df.groupby(df['word_id'].str.endswith('.0').cumsum())]\n",
    "\n",
    "# shuffle data\n",
    "\n",
    "random.shuffle(raw_data)"
   ]
  },
  {
   "cell_type": "code",
   "execution_count": 58,
   "metadata": {},
   "outputs": [
    {
     "name": "stdout",
     "output_type": "stream",
     "text": [
      "Desired split: 0.8\n",
      "Actual split: 0.8033\n"
     ]
    },
    {
     "data": {
      "text/plain": [
       "(1692, 1424, 268)"
      ]
     },
     "execution_count": 58,
     "metadata": {},
     "output_type": "execute_result"
    }
   ],
   "source": [
    "# split the data into train and test\n",
    "\n",
    "dist = get_distribution(raw_data)\n",
    "train_bin, test_bin = splitter(raw_data, splitter_split, dist)\n",
    "len(raw_data), len(train_bin), len(test_bin)"
   ]
  },
  {
   "cell_type": "code",
   "execution_count": 59,
   "metadata": {},
   "outputs": [
    {
     "data": {
      "text/plain": [
       "(9, 18, 2, 9, 18, 2)"
      ]
     },
     "execution_count": 59,
     "metadata": {},
     "output_type": "execute_result"
    }
   ],
   "source": [
    "# preprocess training and test data\n",
    "\n",
    "train_bin = preprocess_for_lexical(train_bin)\n",
    "test_bin = preprocess_for_lexical(test_bin)\n",
    "\n",
    "# make lexicon for labels\n",
    "\n",
    "lexical_dict = lexi_maker(train_bin)\n",
    "\n",
    "# make predictions\n",
    "\n",
    "mark_pred = predict_labels(test_bin, lexical_dict)\n",
    "\n",
    "# check lengths\n",
    "\n",
    "len(mark_pred[0]), len(mark_pred[1]), len(mark_pred[2]), len(test_bin[0]), len(test_bin[1]), len(test_bin[2])"
   ]
  },
  {
   "cell_type": "code",
   "execution_count": 60,
   "metadata": {},
   "outputs": [],
   "source": [
    "# create list of predictions\n",
    "\n",
    "mark_preds = [f[1] for sublist in mark_pred for f in sublist]\n",
    "\n",
    "# create list of true labels\n",
    "\n",
    "mark_true = [f[1] for sublist in test_bin for f in sublist]"
   ]
  },
  {
   "attachments": {},
   "cell_type": "markdown",
   "metadata": {},
   "source": [
    "##### Evaluation"
   ]
  },
  {
   "cell_type": "code",
   "execution_count": 61,
   "metadata": {},
   "outputs": [
    {
     "name": "stdout",
     "output_type": "stream",
     "text": [
      "accuracy: 0.9377907978631742\n",
      "f1 average: 0.4851114948869859\n",
      "\n",
      "precision: [0.01536313 0.34782609 0.99981596]\n",
      "recall: [0.91666667 0.66666667 0.93809359]\n",
      "f1: [0.03021978 0.45714286 0.96797185]\n",
      "\n",
      "              precision    recall  f1-score   support\n",
      "\n",
      "           B       0.02      0.92      0.03        12\n",
      "           I       0.35      0.67      0.46        12\n",
      "           O       1.00      0.94      0.97     11582\n",
      "\n",
      "    accuracy                           0.94     11606\n",
      "   macro avg       0.45      0.84      0.49     11606\n",
      "weighted avg       1.00      0.94      0.97     11606\n",
      "\n"
     ]
    },
    {
     "data": {
      "image/png": "[encoded data removed]",
      "text/plain": [
       "<Figure size 640x480 with 2 Axes>"
      ]
     },
     "metadata": {},
     "output_type": "display_data"
    }
   ],
   "source": [
    "evaluator(mark_true, mark_preds, labels)"
   ]
  },
  {
   "attachments": {},
   "cell_type": "markdown",
   "metadata": {},
   "source": [
    "##### Lexical look-up: `TIME`"
   ]
  },
  {
   "cell_type": "code",
   "execution_count": 62,
   "metadata": {},
   "outputs": [],
   "source": [
    "# construct list of lists of tuples, with each list of tuples representing one sentence and its labels\n",
    "\n",
    "raw_data = [list(zip(g['word'], g['TIME'])) for k, g in \n",
    "            df.groupby(df['word_id'].str.endswith('.0').cumsum())]\n",
    "\n",
    "# shuffle data\n",
    "\n",
    "random.shuffle(raw_data)"
   ]
  },
  {
   "cell_type": "code",
   "execution_count": 63,
   "metadata": {},
   "outputs": [
    {
     "name": "stdout",
     "output_type": "stream",
     "text": [
      "Desired split: 0.8\n",
      "Actual split: 0.8043\n"
     ]
    },
    {
     "data": {
      "text/plain": [
       "(1692, 1373, 319)"
      ]
     },
     "execution_count": 63,
     "metadata": {},
     "output_type": "execute_result"
    }
   ],
   "source": [
    "# split the data into train and test\n",
    "\n",
    "dist = get_distribution(raw_data)\n",
    "train_bin, test_bin = splitter(raw_data, splitter_split, dist)\n",
    "len(raw_data), len(train_bin), len(test_bin)"
   ]
  },
  {
   "cell_type": "code",
   "execution_count": 64,
   "metadata": {},
   "outputs": [
    {
     "data": {
      "text/plain": [
       "(97, 103, 2, 97, 103, 2)"
      ]
     },
     "execution_count": 64,
     "metadata": {},
     "output_type": "execute_result"
    }
   ],
   "source": [
    "# preprocess training and test data\n",
    "\n",
    "train_bin = preprocess_for_lexical(train_bin)\n",
    "test_bin = preprocess_for_lexical(test_bin)\n",
    "\n",
    "# make lexicon for labels\n",
    "\n",
    "lexical_dict = lexi_maker(train_bin)\n",
    "\n",
    "# make predictions\n",
    "\n",
    "time_pred = predict_labels(test_bin, lexical_dict)\n",
    "\n",
    "# check lengths\n",
    "\n",
    "len(time_pred[0]), len(time_pred[1]), len(time_pred[2]), len(test_bin[0]), len(test_bin[1]), len(test_bin[2])"
   ]
  },
  {
   "cell_type": "code",
   "execution_count": 65,
   "metadata": {},
   "outputs": [],
   "source": [
    "# create list of predictions\n",
    "\n",
    "time_preds = [f[1] for sublist in time_pred for f in sublist]\n",
    "\n",
    "# create list of true labels\n",
    "\n",
    "time_true = [f[1] for sublist in test_bin for f in sublist]"
   ]
  },
  {
   "attachments": {},
   "cell_type": "markdown",
   "metadata": {},
   "source": [
    "##### Evaluation"
   ]
  },
  {
   "cell_type": "code",
   "execution_count": 66,
   "metadata": {},
   "outputs": [
    {
     "name": "stdout",
     "output_type": "stream",
     "text": [
      "accuracy: 0.705099926475503\n",
      "f1 average: 0.3264190384756013\n",
      "\n",
      "precision: [0.05229682 0.02905492 0.99711926]\n",
      "recall: [0.74747475 0.77118644 0.70428649]\n",
      "f1: [0.09775429 0.056      0.82550282]\n",
      "\n",
      "              precision    recall  f1-score   support\n",
      "\n",
      "           B       0.05      0.75      0.10        99\n",
      "           I       0.03      0.77      0.06       118\n",
      "           O       1.00      0.70      0.83     14744\n",
      "\n",
      "    accuracy                           0.71     14961\n",
      "   macro avg       0.36      0.74      0.33     14961\n",
      "weighted avg       0.98      0.71      0.81     14961\n",
      "\n"
     ]
    },
    {
     "data": {
      "image/png": "[encoded data removed]",
      "text/plain": [
       "<Figure size 640x480 with 2 Axes>"
      ]
     },
     "metadata": {},
     "output_type": "display_data"
    }
   ],
   "source": [
    "evaluator(time_true, time_preds, labels)"
   ]
  },
  {
   "attachments": {},
   "cell_type": "markdown",
   "metadata": {},
   "source": [
    "##### Lexical look-up: `GOD`"
   ]
  },
  {
   "cell_type": "code",
   "execution_count": 67,
   "metadata": {},
   "outputs": [],
   "source": [
    "# construct list of lists of tuples, with each list of tuples representing one sentence and its labels\n",
    "\n",
    "raw_data = [list(zip(g['word'], g['GOD'])) for k, g in \n",
    "            df.groupby(df['word_id'].str.endswith('.0').cumsum())]\n",
    "\n",
    "# shuffle data\n",
    "\n",
    "random.shuffle(raw_data)"
   ]
  },
  {
   "cell_type": "code",
   "execution_count": 68,
   "metadata": {},
   "outputs": [
    {
     "name": "stdout",
     "output_type": "stream",
     "text": [
      "Desired split: 0.8\n",
      "Actual split: 0.8051\n"
     ]
    },
    {
     "data": {
      "text/plain": [
       "(1692, 1403, 289)"
      ]
     },
     "execution_count": 68,
     "metadata": {},
     "output_type": "execute_result"
    }
   ],
   "source": [
    "# split the data into train and test\n",
    "\n",
    "dist = get_distribution(raw_data)\n",
    "train_bin, test_bin = splitter(raw_data, splitter_split, dist)\n",
    "len(raw_data), len(train_bin), len(test_bin)"
   ]
  },
  {
   "cell_type": "code",
   "execution_count": 69,
   "metadata": {},
   "outputs": [
    {
     "data": {
      "text/plain": [
       "(5, 21, 10, 5, 21, 10)"
      ]
     },
     "execution_count": 69,
     "metadata": {},
     "output_type": "execute_result"
    }
   ],
   "source": [
    "# preprocess training and test data\n",
    "\n",
    "train_bin = preprocess_for_lexical(train_bin)\n",
    "test_bin = preprocess_for_lexical(test_bin)\n",
    "\n",
    "# make lexicon for labels\n",
    "\n",
    "lexical_dict = lexi_maker(train_bin)\n",
    "\n",
    "# make predictions\n",
    "\n",
    "god_pred = predict_labels(test_bin, lexical_dict)\n",
    "\n",
    "# check lengths\n",
    "\n",
    "len(god_pred[0]), len(god_pred[1]), len(god_pred[2]), len(test_bin[0]), len(test_bin[1]), len(test_bin[2])"
   ]
  },
  {
   "cell_type": "code",
   "execution_count": 70,
   "metadata": {},
   "outputs": [],
   "source": [
    "# create list of predictions\n",
    "\n",
    "god_preds = [f[1] for sublist in god_pred for f in sublist]\n",
    "\n",
    "# create list of true labels\n",
    "\n",
    "god_true = [f[1] for sublist in test_bin for f in sublist]"
   ]
  },
  {
   "attachments": {},
   "cell_type": "markdown",
   "metadata": {},
   "source": [
    "##### Evaluation"
   ]
  },
  {
   "cell_type": "code",
   "execution_count": 71,
   "metadata": {},
   "outputs": [
    {
     "name": "stdout",
     "output_type": "stream",
     "text": [
      "accuracy: 0.9123625226228596\n",
      "f1 average: 0.370713516122829\n",
      "\n",
      "precision: [0.05529412 0.02813853 0.99946377]\n",
      "recall: [0.87037037 0.65       0.91288833]\n",
      "f1: [0.1039823  0.05394191 0.95421634]\n",
      "\n",
      "              precision    recall  f1-score   support\n",
      "\n",
      "           B       0.06      0.87      0.10        54\n",
      "           I       0.03      0.65      0.05        20\n",
      "           O       1.00      0.91      0.95     14292\n",
      "\n",
      "    accuracy                           0.91     14366\n",
      "   macro avg       0.36      0.81      0.37     14366\n",
      "weighted avg       0.99      0.91      0.95     14366\n",
      "\n"
     ]
    },
    {
     "data": {
      "image/png": "[encoded data removed]",
      "text/plain": [
       "<Figure size 640x480 with 2 Axes>"
      ]
     },
     "metadata": {},
     "output_type": "display_data"
    }
   ],
   "source": [
    "evaluator(god_true, god_preds, labels)"
   ]
  },
  {
   "attachments": {},
   "cell_type": "markdown",
   "metadata": {},
   "source": [
    "##### Regular expression: `DATE`\n",
    "$\\to$ search full text"
   ]
  },
  {
   "cell_type": "code",
   "execution_count": 72,
   "metadata": {},
   "outputs": [],
   "source": [
    "# create string of NER subcorpus text\n",
    "\n",
    "text_raw_ner = ' '.join(df['word'])"
   ]
  },
  {
   "cell_type": "code",
   "execution_count": 73,
   "metadata": {},
   "outputs": [],
   "source": [
    "# find regex pattern matches and create labels\n",
    "\n",
    "# pattern = r\"(the|le)?( [0-9]+)?( of)?( [A-Z][a-z]+)+\"\n",
    "pattern = r\"\\b(the\\s)?(\\d{1,2})(?:(th|st|nd|rd)\\b)?(?=\\s)\"\n",
    "\n",
    "# find matches, create finditer iterator\n",
    "\n",
    "matches = re.finditer(pattern, text_raw_ner)\n",
    "\n",
    "# split text\n",
    "\n",
    "words = text_raw_ner.split()\n",
    "\n",
    "# store the labels\n",
    "\n",
    "date_labels = ['O'] * len(words)\n",
    "\n",
    "# iterate over the matches and update the date_labels\n",
    "\n",
    "for match in matches:\n",
    "    start_index = match.start()\n",
    "    end_index = match.end()\n",
    "\n",
    "    # split the matched words\n",
    "    matched_words = text_raw_ner[start_index:end_index].split()\n",
    "\n",
    "    # label the first word as 'B'\n",
    "    date_labels[words.index(matched_words[0])] = 'B'\n",
    "\n",
    "    # label subsequent words as 'I'\n",
    "    for i in range(1, len(matched_words)):\n",
    "        date_labels[words.index(matched_words[i])] = 'I'"
   ]
  },
  {
   "cell_type": "code",
   "execution_count": 74,
   "metadata": {},
   "outputs": [],
   "source": [
    "# create list of true labels \n",
    "\n",
    "date_true = df['DATE'].tolist()"
   ]
  },
  {
   "attachments": {},
   "cell_type": "markdown",
   "metadata": {},
   "source": [
    "##### Evaluation"
   ]
  },
  {
   "cell_type": "code",
   "execution_count": 75,
   "metadata": {},
   "outputs": [
    {
     "name": "stdout",
     "output_type": "stream",
     "text": [
      "accuracy: 0.9721044643324436\n",
      "f1 average: 0.3417787526380778\n",
      "\n",
      "precision: [0.11764706 0.69565217 0.97275847]\n",
      "recall: [0.01022147 0.01043025 0.9995559 ]\n",
      "f1: [0.01880878 0.02055234 0.98597514]\n",
      "\n",
      "              precision    recall  f1-score   support\n",
      "\n",
      "           B       0.12      0.01      0.02       587\n",
      "           I       0.70      0.01      0.02      1534\n",
      "           O       0.97      1.00      0.99     74307\n",
      "\n",
      "    accuracy                           0.97     76428\n",
      "   macro avg       0.60      0.34      0.34     76428\n",
      "weighted avg       0.96      0.97      0.96     76428\n",
      "\n"
     ]
    },
    {
     "data": {
      "image/png": "[encoded data removed]",
      "text/plain": [
       "<Figure size 640x480 with 2 Axes>"
      ]
     },
     "metadata": {},
     "output_type": "display_data"
    }
   ],
   "source": [
    "evaluator(date_true, date_labels, labels)"
   ]
  },
  {
   "attachments": {},
   "cell_type": "markdown",
   "metadata": {},
   "source": [
    "##### Regular expression: `PRICE`\n",
    "$\\to$ iterating through the `df` to match on word tokens"
   ]
  },
  {
   "cell_type": "code",
   "execution_count": 76,
   "metadata": {},
   "outputs": [],
   "source": [
    "B_patterns = [\"\\\\b\\w*li\\\\b|\\\\bli\\\\b\", \"\\\\b.*ij\\\\b\", \"\\w*xx\\w*\"]\n",
    "I_patterns = [\"\\\\bst\\.\", \"\\\\bFl\\.\"]"
   ]
  },
  {
   "cell_type": "code",
   "execution_count": 77,
   "metadata": {},
   "outputs": [],
   "source": [
    "# define function to check if a token matches regex patterns\n",
    "\n",
    "def check_regex(token):\n",
    "    for pattern in B_patterns:\n",
    "        if re.match(pattern, token):\n",
    "            return 'B'\n",
    "    for pattern in I_patterns:\n",
    "        if re.match(pattern, token):\n",
    "            return 'I'\n",
    "    return 'O'"
   ]
  },
  {
   "cell_type": "code",
   "execution_count": 78,
   "metadata": {},
   "outputs": [
    {
     "data": {
      "text/html": [
       "<div>\n",
       "<style scoped>\n",
       "    .dataframe tbody tr th:only-of-type {\n",
       "        vertical-align: middle;\n",
       "    }\n",
       "\n",
       "    .dataframe tbody tr th {\n",
       "        vertical-align: top;\n",
       "    }\n",
       "\n",
       "    .dataframe thead th {\n",
       "        text-align: right;\n",
       "    }\n",
       "</style>\n",
       "<table border=\"1\" class=\"dataframe\">\n",
       "  <thead>\n",
       "    <tr style=\"text-align: right;\">\n",
       "      <th></th>\n",
       "      <th>word_id</th>\n",
       "      <th>word</th>\n",
       "      <th>NAME</th>\n",
       "      <th>LOCATION</th>\n",
       "      <th>NATION</th>\n",
       "      <th>MARKET</th>\n",
       "      <th>DATE</th>\n",
       "      <th>TIME</th>\n",
       "      <th>PRICE</th>\n",
       "      <th>GOD</th>\n",
       "      <th>labels</th>\n",
       "      <th>PRICE_re_labels</th>\n",
       "    </tr>\n",
       "  </thead>\n",
       "  <tbody>\n",
       "    <tr>\n",
       "      <th>0</th>\n",
       "      <td>SB_J_1.0.0</td>\n",
       "      <td>1.</td>\n",
       "      <td>O</td>\n",
       "      <td>O</td>\n",
       "      <td>O</td>\n",
       "      <td>O</td>\n",
       "      <td>O</td>\n",
       "      <td>O</td>\n",
       "      <td>O</td>\n",
       "      <td>O</td>\n",
       "      <td>O</td>\n",
       "      <td>O</td>\n",
       "    </tr>\n",
       "    <tr>\n",
       "      <th>1</th>\n",
       "      <td>SB_J_1.0.1</td>\n",
       "      <td>OTWELL</td>\n",
       "      <td>B</td>\n",
       "      <td>O</td>\n",
       "      <td>O</td>\n",
       "      <td>O</td>\n",
       "      <td>O</td>\n",
       "      <td>O</td>\n",
       "      <td>O</td>\n",
       "      <td>O</td>\n",
       "      <td>NAME-B</td>\n",
       "      <td>O</td>\n",
       "    </tr>\n",
       "    <tr>\n",
       "      <th>2</th>\n",
       "      <td>SB_J_1.0.2</td>\n",
       "      <td>JOHNSON</td>\n",
       "      <td>I</td>\n",
       "      <td>O</td>\n",
       "      <td>O</td>\n",
       "      <td>O</td>\n",
       "      <td>O</td>\n",
       "      <td>O</td>\n",
       "      <td>O</td>\n",
       "      <td>O</td>\n",
       "      <td>NAME-I</td>\n",
       "      <td>O</td>\n",
       "    </tr>\n",
       "    <tr>\n",
       "      <th>3</th>\n",
       "      <td>SB_J_1.0.3</td>\n",
       "      <td>TO</td>\n",
       "      <td>O</td>\n",
       "      <td>O</td>\n",
       "      <td>O</td>\n",
       "      <td>O</td>\n",
       "      <td>O</td>\n",
       "      <td>O</td>\n",
       "      <td>O</td>\n",
       "      <td>O</td>\n",
       "      <td>O</td>\n",
       "      <td>O</td>\n",
       "    </tr>\n",
       "    <tr>\n",
       "      <th>4</th>\n",
       "      <td>SB_J_1.0.4</td>\n",
       "      <td>JOHN</td>\n",
       "      <td>B</td>\n",
       "      <td>O</td>\n",
       "      <td>O</td>\n",
       "      <td>O</td>\n",
       "      <td>O</td>\n",
       "      <td>O</td>\n",
       "      <td>O</td>\n",
       "      <td>O</td>\n",
       "      <td>NAME-B</td>\n",
       "      <td>O</td>\n",
       "    </tr>\n",
       "  </tbody>\n",
       "</table>\n",
       "</div>"
      ],
      "text/plain": [
       "      word_id     word NAME LOCATION NATION MARKET DATE TIME PRICE GOD  \\\n",
       "0  SB_J_1.0.0       1.    O        O      O      O    O    O     O   O   \n",
       "1  SB_J_1.0.1   OTWELL    B        O      O      O    O    O     O   O   \n",
       "2  SB_J_1.0.2  JOHNSON    I        O      O      O    O    O     O   O   \n",
       "3  SB_J_1.0.3       TO    O        O      O      O    O    O     O   O   \n",
       "4  SB_J_1.0.4     JOHN    B        O      O      O    O    O     O   O   \n",
       "\n",
       "   labels PRICE_re_labels  \n",
       "0       O               O  \n",
       "1  NAME-B               O  \n",
       "2  NAME-I               O  \n",
       "3       O               O  \n",
       "4  NAME-B               O  "
      ]
     },
     "execution_count": 78,
     "metadata": {},
     "output_type": "execute_result"
    }
   ],
   "source": [
    "# iterate through letters by token and search for matches\n",
    "\n",
    "df['PRICE_re_labels'] = df['word'].apply(lambda x: check_regex(x))\n",
    "\n",
    "# check df\n",
    "\n",
    "df.head()"
   ]
  },
  {
   "cell_type": "code",
   "execution_count": 79,
   "metadata": {},
   "outputs": [],
   "source": [
    "# create list of predictions\n",
    "\n",
    "price_preds = df['PRICE_re_labels'].tolist()\n",
    "\n",
    "# create list of true labels \n",
    "\n",
    "price_true = df['PRICE'].tolist()"
   ]
  },
  {
   "attachments": {},
   "cell_type": "markdown",
   "metadata": {},
   "source": [
    "##### Evaluation"
   ]
  },
  {
   "cell_type": "code",
   "execution_count": 80,
   "metadata": {},
   "outputs": [
    {
     "name": "stdout",
     "output_type": "stream",
     "text": [
      "accuracy: 0.9879625268226304\n",
      "f1 average: 0.6828683993975625\n",
      "\n",
      "precision: [0.53069577 0.96       0.99247632]\n",
      "recall: [0.66269165 0.30670927 0.99617098]\n",
      "f1: [0.58939394 0.46489104 0.99432022]\n",
      "\n",
      "              precision    recall  f1-score   support\n",
      "\n",
      "           B       0.53      0.66      0.59       587\n",
      "           I       0.96      0.31      0.46       626\n",
      "           O       0.99      1.00      0.99     75215\n",
      "\n",
      "    accuracy                           0.99     76428\n",
      "   macro avg       0.83      0.66      0.68     76428\n",
      "weighted avg       0.99      0.99      0.99     76428\n",
      "\n"
     ]
    },
    {
     "data": {
      "image/png": "[encoded data removed]",
      "text/plain": [
       "<Figure size 640x480 with 2 Axes>"
      ]
     },
     "metadata": {},
     "output_type": "display_data"
    }
   ],
   "source": [
    "evaluator(price_true, price_preds, labels)"
   ]
  },
  {
   "attachments": {},
   "cell_type": "markdown",
   "metadata": {},
   "source": [
    "#### Using `v_f1t0`\n",
    "$\\to$ lexical look-up: `NAME`, `LOCATION`, `NATION`, `MARKET`, `TIME`, `GOD`\\\n",
    "$\\to$ regular expression: `DATE`, `PRICE` "
   ]
  },
  {
   "attachments": {},
   "cell_type": "markdown",
   "metadata": {},
   "source": [
    "##### Lexical look-up: `NAME`"
   ]
  },
  {
   "cell_type": "code",
   "execution_count": 81,
   "metadata": {},
   "outputs": [
    {
     "data": {
      "text/html": [
       "<div>\n",
       "<style scoped>\n",
       "    .dataframe tbody tr th:only-of-type {\n",
       "        vertical-align: middle;\n",
       "    }\n",
       "\n",
       "    .dataframe tbody tr th {\n",
       "        vertical-align: top;\n",
       "    }\n",
       "\n",
       "    .dataframe thead th {\n",
       "        text-align: right;\n",
       "    }\n",
       "</style>\n",
       "<table border=\"1\" class=\"dataframe\">\n",
       "  <thead>\n",
       "    <tr style=\"text-align: right;\">\n",
       "      <th></th>\n",
       "      <th>word_id</th>\n",
       "      <th>word</th>\n",
       "      <th>NAME</th>\n",
       "      <th>LOCATION</th>\n",
       "      <th>NATION</th>\n",
       "      <th>MARKET</th>\n",
       "      <th>DATE</th>\n",
       "      <th>TIME</th>\n",
       "      <th>PRICE</th>\n",
       "      <th>GOD</th>\n",
       "      <th>labels</th>\n",
       "    </tr>\n",
       "  </thead>\n",
       "  <tbody>\n",
       "    <tr>\n",
       "      <th>0</th>\n",
       "      <td>SB_J_1.0.0</td>\n",
       "      <td>1.</td>\n",
       "      <td>O</td>\n",
       "      <td>O</td>\n",
       "      <td>O</td>\n",
       "      <td>O</td>\n",
       "      <td>O</td>\n",
       "      <td>O</td>\n",
       "      <td>O</td>\n",
       "      <td>O</td>\n",
       "      <td>O</td>\n",
       "    </tr>\n",
       "    <tr>\n",
       "      <th>1</th>\n",
       "      <td>SB_J_1.0.1</td>\n",
       "      <td>HOTEL</td>\n",
       "      <td>B</td>\n",
       "      <td>O</td>\n",
       "      <td>O</td>\n",
       "      <td>O</td>\n",
       "      <td>O</td>\n",
       "      <td>O</td>\n",
       "      <td>O</td>\n",
       "      <td>O</td>\n",
       "      <td>NAME-B</td>\n",
       "    </tr>\n",
       "    <tr>\n",
       "      <th>2</th>\n",
       "      <td>SB_J_1.0.2</td>\n",
       "      <td>JOHNSON</td>\n",
       "      <td>I</td>\n",
       "      <td>O</td>\n",
       "      <td>O</td>\n",
       "      <td>O</td>\n",
       "      <td>O</td>\n",
       "      <td>O</td>\n",
       "      <td>O</td>\n",
       "      <td>O</td>\n",
       "      <td>NAME-I</td>\n",
       "    </tr>\n",
       "    <tr>\n",
       "      <th>3</th>\n",
       "      <td>SB_J_1.0.3</td>\n",
       "      <td>TO</td>\n",
       "      <td>O</td>\n",
       "      <td>O</td>\n",
       "      <td>O</td>\n",
       "      <td>O</td>\n",
       "      <td>O</td>\n",
       "      <td>O</td>\n",
       "      <td>O</td>\n",
       "      <td>O</td>\n",
       "      <td>O</td>\n",
       "    </tr>\n",
       "    <tr>\n",
       "      <th>4</th>\n",
       "      <td>SB_J_1.0.4</td>\n",
       "      <td>JOHN</td>\n",
       "      <td>B</td>\n",
       "      <td>O</td>\n",
       "      <td>O</td>\n",
       "      <td>O</td>\n",
       "      <td>O</td>\n",
       "      <td>O</td>\n",
       "      <td>O</td>\n",
       "      <td>O</td>\n",
       "      <td>NAME-B</td>\n",
       "    </tr>\n",
       "    <tr>\n",
       "      <th>5</th>\n",
       "      <td>SB_J_1.0.5</td>\n",
       "      <td>JOHNSON</td>\n",
       "      <td>I</td>\n",
       "      <td>O</td>\n",
       "      <td>O</td>\n",
       "      <td>O</td>\n",
       "      <td>O</td>\n",
       "      <td>O</td>\n",
       "      <td>O</td>\n",
       "      <td>O</td>\n",
       "      <td>NAME-I</td>\n",
       "    </tr>\n",
       "    <tr>\n",
       "      <th>6</th>\n",
       "      <td>SB_J_1.1.0</td>\n",
       "      <td>At</td>\n",
       "      <td>O</td>\n",
       "      <td>O</td>\n",
       "      <td>O</td>\n",
       "      <td>O</td>\n",
       "      <td>O</td>\n",
       "      <td>O</td>\n",
       "      <td>O</td>\n",
       "      <td>O</td>\n",
       "      <td>O</td>\n",
       "    </tr>\n",
       "    <tr>\n",
       "      <th>7</th>\n",
       "      <td>SB_J_1.1.1</td>\n",
       "      <td>London,</td>\n",
       "      <td>O</td>\n",
       "      <td>B</td>\n",
       "      <td>O</td>\n",
       "      <td>O</td>\n",
       "      <td>O</td>\n",
       "      <td>O</td>\n",
       "      <td>O</td>\n",
       "      <td>O</td>\n",
       "      <td>LOCATION-B</td>\n",
       "    </tr>\n",
       "    <tr>\n",
       "      <th>8</th>\n",
       "      <td>SB_J_1.1.2</td>\n",
       "      <td>the</td>\n",
       "      <td>O</td>\n",
       "      <td>O</td>\n",
       "      <td>O</td>\n",
       "      <td>O</td>\n",
       "      <td>B</td>\n",
       "      <td>O</td>\n",
       "      <td>O</td>\n",
       "      <td>O</td>\n",
       "      <td>DATE-B</td>\n",
       "    </tr>\n",
       "    <tr>\n",
       "      <th>9</th>\n",
       "      <td>SB_J_1.1.3</td>\n",
       "      <td>12th</td>\n",
       "      <td>O</td>\n",
       "      <td>O</td>\n",
       "      <td>O</td>\n",
       "      <td>O</td>\n",
       "      <td>I</td>\n",
       "      <td>O</td>\n",
       "      <td>O</td>\n",
       "      <td>O</td>\n",
       "      <td>DATE-I</td>\n",
       "    </tr>\n",
       "  </tbody>\n",
       "</table>\n",
       "</div>"
      ],
      "text/plain": [
       "      word_id     word NAME LOCATION NATION MARKET DATE TIME PRICE GOD  \\\n",
       "0  SB_J_1.0.0       1.    O        O      O      O    O    O     O   O   \n",
       "1  SB_J_1.0.1    HOTEL    B        O      O      O    O    O     O   O   \n",
       "2  SB_J_1.0.2  JOHNSON    I        O      O      O    O    O     O   O   \n",
       "3  SB_J_1.0.3       TO    O        O      O      O    O    O     O   O   \n",
       "4  SB_J_1.0.4     JOHN    B        O      O      O    O    O     O   O   \n",
       "5  SB_J_1.0.5  JOHNSON    I        O      O      O    O    O     O   O   \n",
       "6  SB_J_1.1.0       At    O        O      O      O    O    O     O   O   \n",
       "7  SB_J_1.1.1  London,    O        B      O      O    O    O     O   O   \n",
       "8  SB_J_1.1.2      the    O        O      O      O    B    O     O   O   \n",
       "9  SB_J_1.1.3     12th    O        O      O      O    I    O     O   O   \n",
       "\n",
       "       labels  \n",
       "0           O  \n",
       "1      NAME-B  \n",
       "2      NAME-I  \n",
       "3           O  \n",
       "4      NAME-B  \n",
       "5      NAME-I  \n",
       "6           O  \n",
       "7  LOCATION-B  \n",
       "8      DATE-B  \n",
       "9      DATE-I  "
      ]
     },
     "execution_count": 81,
     "metadata": {},
     "output_type": "execute_result"
    }
   ],
   "source": [
    "# open the original letters to retrieve labels\n",
    "\n",
    "df_v = pd.read_csv(v_f1t0, sep=',')\n",
    "\n",
    "# dropna() will drop empty values in word, which are a result of line breaks in the letters\n",
    "\n",
    "df_v = df_v.dropna()\n",
    "df_v.head(10)"
   ]
  },
  {
   "cell_type": "code",
   "execution_count": 82,
   "metadata": {},
   "outputs": [
    {
     "name": "stdout",
     "output_type": "stream",
     "text": [
      "88\n"
     ]
    },
    {
     "data": {
      "text/html": [
       "<div>\n",
       "<style scoped>\n",
       "    .dataframe tbody tr th:only-of-type {\n",
       "        vertical-align: middle;\n",
       "    }\n",
       "\n",
       "    .dataframe tbody tr th {\n",
       "        vertical-align: top;\n",
       "    }\n",
       "\n",
       "    .dataframe thead th {\n",
       "        text-align: right;\n",
       "    }\n",
       "</style>\n",
       "<table border=\"1\" class=\"dataframe\">\n",
       "  <thead>\n",
       "    <tr style=\"text-align: right;\">\n",
       "      <th></th>\n",
       "      <th>word_id</th>\n",
       "      <th>word</th>\n",
       "      <th>NAME</th>\n",
       "      <th>LOCATION</th>\n",
       "      <th>NATION</th>\n",
       "      <th>MARKET</th>\n",
       "      <th>DATE</th>\n",
       "      <th>TIME</th>\n",
       "      <th>PRICE</th>\n",
       "      <th>GOD</th>\n",
       "      <th>labels</th>\n",
       "    </tr>\n",
       "  </thead>\n",
       "  <tbody>\n",
       "    <tr>\n",
       "      <th>264</th>\n",
       "      <td>SB_J_1.3.185</td>\n",
       "      <td>how be it</td>\n",
       "      <td>O</td>\n",
       "      <td>O</td>\n",
       "      <td>O</td>\n",
       "      <td>O</td>\n",
       "      <td>O</td>\n",
       "      <td>O</td>\n",
       "      <td>O</td>\n",
       "      <td>O</td>\n",
       "      <td>O</td>\n",
       "    </tr>\n",
       "    <tr>\n",
       "      <th>555</th>\n",
       "      <td>SB_J_2.2.45</td>\n",
       "      <td>How be it,</td>\n",
       "      <td>O</td>\n",
       "      <td>O</td>\n",
       "      <td>O</td>\n",
       "      <td>O</td>\n",
       "      <td>O</td>\n",
       "      <td>O</td>\n",
       "      <td>O</td>\n",
       "      <td>O</td>\n",
       "      <td>O</td>\n",
       "    </tr>\n",
       "    <tr>\n",
       "      <th>3986</th>\n",
       "      <td>SB_J_8.2.81</td>\n",
       "      <td>how be it</td>\n",
       "      <td>O</td>\n",
       "      <td>O</td>\n",
       "      <td>O</td>\n",
       "      <td>O</td>\n",
       "      <td>O</td>\n",
       "      <td>O</td>\n",
       "      <td>O</td>\n",
       "      <td>O</td>\n",
       "      <td>O</td>\n",
       "    </tr>\n",
       "    <tr>\n",
       "      <th>4107</th>\n",
       "      <td>SB_J_8.2.202</td>\n",
       "      <td>How be it</td>\n",
       "      <td>O</td>\n",
       "      <td>O</td>\n",
       "      <td>O</td>\n",
       "      <td>O</td>\n",
       "      <td>O</td>\n",
       "      <td>O</td>\n",
       "      <td>O</td>\n",
       "      <td>O</td>\n",
       "      <td>O</td>\n",
       "    </tr>\n",
       "    <tr>\n",
       "      <th>6128</th>\n",
       "      <td>SB_J_14.4.50</td>\n",
       "      <td>How be it</td>\n",
       "      <td>O</td>\n",
       "      <td>O</td>\n",
       "      <td>O</td>\n",
       "      <td>O</td>\n",
       "      <td>O</td>\n",
       "      <td>O</td>\n",
       "      <td>O</td>\n",
       "      <td>O</td>\n",
       "      <td>O</td>\n",
       "    </tr>\n",
       "    <tr>\n",
       "      <th>6211</th>\n",
       "      <td>SB_J_14.6.28</td>\n",
       "      <td>How be it,</td>\n",
       "      <td>O</td>\n",
       "      <td>O</td>\n",
       "      <td>O</td>\n",
       "      <td>O</td>\n",
       "      <td>O</td>\n",
       "      <td>O</td>\n",
       "      <td>O</td>\n",
       "      <td>O</td>\n",
       "      <td>O</td>\n",
       "    </tr>\n",
       "    <tr>\n",
       "      <th>7563</th>\n",
       "      <td>SB_J_18.14.67</td>\n",
       "      <td>How be it,</td>\n",
       "      <td>O</td>\n",
       "      <td>O</td>\n",
       "      <td>O</td>\n",
       "      <td>O</td>\n",
       "      <td>O</td>\n",
       "      <td>O</td>\n",
       "      <td>O</td>\n",
       "      <td>O</td>\n",
       "      <td>O</td>\n",
       "    </tr>\n",
       "    <tr>\n",
       "      <th>7714</th>\n",
       "      <td>SB_J_21.6.56</td>\n",
       "      <td>Were it,</td>\n",
       "      <td>I</td>\n",
       "      <td>O</td>\n",
       "      <td>O</td>\n",
       "      <td>O</td>\n",
       "      <td>O</td>\n",
       "      <td>O</td>\n",
       "      <td>O</td>\n",
       "      <td>O</td>\n",
       "      <td>NAME-I</td>\n",
       "    </tr>\n",
       "    <tr>\n",
       "      <th>7740</th>\n",
       "      <td>SB_J_21.6.82</td>\n",
       "      <td>the other</td>\n",
       "      <td>O</td>\n",
       "      <td>O</td>\n",
       "      <td>O</td>\n",
       "      <td>O</td>\n",
       "      <td>O</td>\n",
       "      <td>O</td>\n",
       "      <td>O</td>\n",
       "      <td>O</td>\n",
       "      <td>O</td>\n",
       "    </tr>\n",
       "    <tr>\n",
       "      <th>10121</th>\n",
       "      <td>SB_J_33.7.62</td>\n",
       "      <td>As well,</td>\n",
       "      <td>O</td>\n",
       "      <td>B</td>\n",
       "      <td>O</td>\n",
       "      <td>O</td>\n",
       "      <td>O</td>\n",
       "      <td>O</td>\n",
       "      <td>O</td>\n",
       "      <td>O</td>\n",
       "      <td>LOCATION-B</td>\n",
       "    </tr>\n",
       "  </tbody>\n",
       "</table>\n",
       "</div>"
      ],
      "text/plain": [
       "             word_id        word NAME LOCATION NATION MARKET DATE TIME PRICE  \\\n",
       "264     SB_J_1.3.185   how be it    O        O      O      O    O    O     O   \n",
       "555      SB_J_2.2.45  How be it,    O        O      O      O    O    O     O   \n",
       "3986     SB_J_8.2.81   how be it    O        O      O      O    O    O     O   \n",
       "4107    SB_J_8.2.202   How be it    O        O      O      O    O    O     O   \n",
       "6128    SB_J_14.4.50   How be it    O        O      O      O    O    O     O   \n",
       "6211    SB_J_14.6.28  How be it,    O        O      O      O    O    O     O   \n",
       "7563   SB_J_18.14.67  How be it,    O        O      O      O    O    O     O   \n",
       "7714    SB_J_21.6.56    Were it,    I        O      O      O    O    O     O   \n",
       "7740    SB_J_21.6.82   the other    O        O      O      O    O    O     O   \n",
       "10121   SB_J_33.7.62    As well,    O        B      O      O    O    O     O   \n",
       "\n",
       "      GOD      labels  \n",
       "264     O           O  \n",
       "555     O           O  \n",
       "3986    O           O  \n",
       "4107    O           O  \n",
       "6128    O           O  \n",
       "6211    O           O  \n",
       "7563    O           O  \n",
       "7714    O      NAME-I  \n",
       "7740    O           O  \n",
       "10121   O  LOCATION-B  "
      ]
     },
     "execution_count": 82,
     "metadata": {},
     "output_type": "execute_result"
    }
   ],
   "source": [
    "# VARD transformed some single tokens into multiple tokens\n",
    "\n",
    "df_whitespace_rows = df_v[df_v['word'].str.contains('\\s')]\n",
    "print(len(df_v[df_v['word'].str.contains('\\s')]))\n",
    "df_whitespace_rows.head(10)"
   ]
  },
  {
   "cell_type": "code",
   "execution_count": 83,
   "metadata": {},
   "outputs": [],
   "source": [
    "# split the word values with whitespace on whitespace creating new rows for each token and preserving the true labels\n",
    "\n",
    "new_rows = []\n",
    "for index, row in df_v.iterrows():\n",
    "    tokens = row['word'].split()\n",
    "    if len(tokens) ==1:\n",
    "        row['token'] = row['word']\n",
    "        new_rows.append(row)\n",
    "    else:\n",
    "        for i, token in enumerate(tokens):\n",
    "            row_copy = df_v.loc[index].copy()\n",
    "            row_copy['token'] = token\n",
    "            cols = ['NAME', 'LOCATION', 'NATION', 'MARKET', 'DATE', 'TIME', 'PRICE', 'GOD']\n",
    "            if i > 0:\n",
    "                for column in cols:\n",
    "                    if row_copy[column] == 'B':\n",
    "                        row_copy[column] = 'I'\n",
    "                row_copy['word_id'] += f'.{i}'\n",
    "                row_copy['word'] = ''\n",
    "            new_rows.append(row_copy)\n",
    "\n",
    "# add new row of tokenized words to df_v\n",
    "\n",
    "df_v = pd.concat(new_rows, axis=1).transpose().reset_index(drop=True)\n",
    "\n",
    "# reorder the columns for readability\n",
    "\n",
    "df_v.insert(2, 'token', df_v.pop('token'))"
   ]
  },
  {
   "cell_type": "code",
   "execution_count": 84,
   "metadata": {},
   "outputs": [
    {
     "name": "stdout",
     "output_type": "stream",
     "text": [
      "0\n"
     ]
    }
   ],
   "source": [
    "# check for the presence of tokens with whitespace\n",
    "\n",
    "print(len(df_v[df_v['token'].str.contains('\\s')]))"
   ]
  },
  {
   "cell_type": "code",
   "execution_count": 85,
   "metadata": {},
   "outputs": [],
   "source": [
    "# construct list of lists of tuples, with each list of tuples representing one sentence and its labels\n",
    "\n",
    "raw_data = [list(zip(g['token'], g['NAME'])) for k, g in \n",
    "            df_v.groupby(df_v['word_id'].str.endswith('.0').cumsum())]\n",
    "\n",
    "# shuffle data\n",
    "\n",
    "random.shuffle(raw_data)"
   ]
  },
  {
   "cell_type": "code",
   "execution_count": 86,
   "metadata": {},
   "outputs": [
    {
     "name": "stdout",
     "output_type": "stream",
     "text": [
      "Desired split: 0.8\n",
      "Actual split: 0.8005\n"
     ]
    },
    {
     "data": {
      "text/plain": [
       "(1692, 1374, 318)"
      ]
     },
     "execution_count": 86,
     "metadata": {},
     "output_type": "execute_result"
    }
   ],
   "source": [
    "# split the data into train and test\n",
    "\n",
    "dist = get_distribution(raw_data)\n",
    "train_bin, test_bin = splitter(raw_data, splitter_split, dist)\n",
    "\n",
    "# check the splits\n",
    "\n",
    "len(raw_data), len(train_bin), len(test_bin)"
   ]
  },
  {
   "cell_type": "code",
   "execution_count": 87,
   "metadata": {},
   "outputs": [],
   "source": [
    "# preprocess training and test data\n",
    "\n",
    "train_bin = preprocess_for_lexical(train_bin)\n",
    "test_bin = preprocess_for_lexical(test_bin)\n",
    "\n",
    "# make lexicon for labels\n",
    "\n",
    "lexical_dict = lexi_maker(train_bin)\n",
    "\n",
    "# make predictions\n",
    "\n",
    "name_pred = predict_labels(test_bin, lexical_dict)"
   ]
  },
  {
   "cell_type": "code",
   "execution_count": 88,
   "metadata": {},
   "outputs": [
    {
     "data": {
      "text/plain": [
       "(1, 15, 248, 1, 15, 248)"
      ]
     },
     "execution_count": 88,
     "metadata": {},
     "output_type": "execute_result"
    }
   ],
   "source": [
    "# check lengths\n",
    "\n",
    "len(name_pred[0]), len(name_pred[1]), len(name_pred[2]), len(test_bin[0]), len(test_bin[1]), len(test_bin[2])"
   ]
  },
  {
   "cell_type": "code",
   "execution_count": 89,
   "metadata": {},
   "outputs": [],
   "source": [
    "# create list of predictions\n",
    "\n",
    "name_preds = [f[1] for sublist in name_pred for f in sublist]\n",
    "\n",
    "# create list of true labels\n",
    "\n",
    "name_true = [f[1] for sublist in test_bin for f in sublist]"
   ]
  },
  {
   "attachments": {},
   "cell_type": "markdown",
   "metadata": {},
   "source": [
    "##### Evaluation"
   ]
  },
  {
   "cell_type": "code",
   "execution_count": 90,
   "metadata": {},
   "outputs": [
    {
     "name": "stdout",
     "output_type": "stream",
     "text": [
      "accuracy: 0.8566424322538004\n",
      "f1 average: 0.5591100328064392\n",
      "\n",
      "precision: [0.23345818 0.27524576 0.98952373]\n",
      "recall: [0.85388128 0.66094421 0.86313792]\n",
      "f1: [0.36666667 0.38864353 0.9220199 ]\n",
      "\n",
      "              precision    recall  f1-score   support\n",
      "\n",
      "           B       0.23      0.85      0.37       438\n",
      "           I       0.28      0.66      0.39       466\n",
      "           O       0.99      0.86      0.92     14226\n",
      "\n",
      "    accuracy                           0.86     15130\n",
      "   macro avg       0.50      0.79      0.56     15130\n",
      "weighted avg       0.95      0.86      0.89     15130\n",
      "\n"
     ]
    },
    {
     "data": {
      "image/png": "[encoded data removed]",
      "text/plain": [
       "<Figure size 640x480 with 2 Axes>"
      ]
     },
     "metadata": {},
     "output_type": "display_data"
    }
   ],
   "source": [
    "evaluator(name_true, name_preds, labels)"
   ]
  },
  {
   "attachments": {},
   "cell_type": "markdown",
   "metadata": {},
   "source": [
    "##### Lexical look-up: `LOCATION`"
   ]
  },
  {
   "cell_type": "code",
   "execution_count": 91,
   "metadata": {},
   "outputs": [],
   "source": [
    "# construct list of lists of tuples, with each list of tuples representing one sentence and its labels\n",
    "\n",
    "raw_data = [list(zip(g['token'], g['LOCATION'])) for k, g in \n",
    "            df_v.groupby(df_v['word_id'].str.endswith('.0').cumsum())]\n",
    "\n",
    "# shuffle data\n",
    "\n",
    "random.shuffle(raw_data)"
   ]
  },
  {
   "cell_type": "code",
   "execution_count": 92,
   "metadata": {},
   "outputs": [
    {
     "name": "stdout",
     "output_type": "stream",
     "text": [
      "Desired split: 0.8\n",
      "Actual split: 0.8016\n"
     ]
    },
    {
     "data": {
      "text/plain": [
       "(1692, 1406, 286)"
      ]
     },
     "execution_count": 92,
     "metadata": {},
     "output_type": "execute_result"
    }
   ],
   "source": [
    "# split the data into train and test\n",
    "\n",
    "dist = get_distribution(raw_data)\n",
    "train_bin, test_bin = splitter(raw_data, splitter_split, dist)\n",
    "\n",
    "# check the splits\n",
    "\n",
    "len(raw_data), len(train_bin), len(test_bin)"
   ]
  },
  {
   "cell_type": "code",
   "execution_count": 93,
   "metadata": {},
   "outputs": [],
   "source": [
    "# preprocess training and test data\n",
    "\n",
    "train_bin = preprocess_for_lexical(train_bin)\n",
    "test_bin = preprocess_for_lexical(test_bin)\n",
    "\n",
    "# make lexicon for labels\n",
    "\n",
    "lexical_dict = lexi_maker(train_bin)\n",
    "\n",
    "# make predictions\n",
    "\n",
    "loc_pred = predict_labels(test_bin, lexical_dict)"
   ]
  },
  {
   "cell_type": "code",
   "execution_count": 94,
   "metadata": {},
   "outputs": [
    {
     "data": {
      "text/plain": [
       "(15, 10, 4, 15, 10, 4)"
      ]
     },
     "execution_count": 94,
     "metadata": {},
     "output_type": "execute_result"
    }
   ],
   "source": [
    "# check lengths\n",
    "\n",
    "len(loc_pred[0]), len(loc_pred[1]), len(loc_pred[2]), len(test_bin[0]), len(test_bin[1]), len(test_bin[2])"
   ]
  },
  {
   "cell_type": "code",
   "execution_count": 95,
   "metadata": {},
   "outputs": [],
   "source": [
    "# create list of predictions\n",
    "\n",
    "loc_preds = [f[1] for sublist in loc_pred for f in sublist]\n",
    "\n",
    "# create list of true labels\n",
    "\n",
    "loc_true = [f[1] for sublist in test_bin for f in sublist]"
   ]
  },
  {
   "attachments": {},
   "cell_type": "markdown",
   "metadata": {},
   "source": [
    "##### Evaluation"
   ]
  },
  {
   "cell_type": "code",
   "execution_count": 96,
   "metadata": {},
   "outputs": [
    {
     "name": "stdout",
     "output_type": "stream",
     "text": [
      "accuracy: 0.8846340617412418\n",
      "f1 average: 0.4322565586925074\n",
      "\n",
      "precision: [0.20682303 0.01348315 0.99674267]\n",
      "recall: [0.84716157 0.57142857 0.8857042 ]\n",
      "f1: [0.33247644 0.02634468 0.93794856]\n",
      "\n",
      "              precision    recall  f1-score   support\n",
      "\n",
      "           B       0.21      0.85      0.33       229\n",
      "           I       0.01      0.57      0.03        21\n",
      "           O       1.00      0.89      0.94     14165\n",
      "\n",
      "    accuracy                           0.88     14415\n",
      "   macro avg       0.41      0.77      0.43     14415\n",
      "weighted avg       0.98      0.88      0.93     14415\n",
      "\n"
     ]
    },
    {
     "data": {
      "image/png": "[encoded data removed]",
      "text/plain": [
       "<Figure size 640x480 with 2 Axes>"
      ]
     },
     "metadata": {},
     "output_type": "display_data"
    }
   ],
   "source": [
    "evaluator(loc_true, loc_preds, labels)"
   ]
  },
  {
   "attachments": {},
   "cell_type": "markdown",
   "metadata": {},
   "source": [
    "##### Lexical look-up: `NATION`"
   ]
  },
  {
   "cell_type": "code",
   "execution_count": 97,
   "metadata": {},
   "outputs": [],
   "source": [
    "# construct list of lists of tuples, with each list of tuples representing one sentence and its labels\n",
    "\n",
    "raw_data = [list(zip(g['token'], g['NATION'])) for k, g in \n",
    "            df_v.groupby(df_v['word_id'].str.endswith('.0').cumsum())]\n",
    "\n",
    "# shuffle data\n",
    "\n",
    "random.shuffle(raw_data)"
   ]
  },
  {
   "cell_type": "code",
   "execution_count": 98,
   "metadata": {},
   "outputs": [
    {
     "name": "stdout",
     "output_type": "stream",
     "text": [
      "Desired split: 0.8\n",
      "Actual split: 0.8018\n"
     ]
    },
    {
     "data": {
      "text/plain": [
       "(1692, 1377, 315)"
      ]
     },
     "execution_count": 98,
     "metadata": {},
     "output_type": "execute_result"
    }
   ],
   "source": [
    "# split the data into train and test\n",
    "\n",
    "dist = get_distribution(raw_data)\n",
    "train_bin, test_bin = splitter(raw_data, splitter_split, dist)\n",
    "\n",
    "# check the splits\n",
    "\n",
    "len(raw_data), len(train_bin), len(test_bin)"
   ]
  },
  {
   "cell_type": "code",
   "execution_count": 99,
   "metadata": {},
   "outputs": [],
   "source": [
    "# preprocess training and test data\n",
    "\n",
    "train_bin = preprocess_for_lexical(train_bin)\n",
    "test_bin = preprocess_for_lexical(test_bin)\n",
    "\n",
    "# make lexicon for labels\n",
    "\n",
    "lexical_dict = lexi_maker(train_bin)\n",
    "\n",
    "# make predictions\n",
    "\n",
    "nat_pred = predict_labels(test_bin, lexical_dict)"
   ]
  },
  {
   "cell_type": "code",
   "execution_count": 100,
   "metadata": {},
   "outputs": [
    {
     "data": {
      "text/plain": [
       "(2, 119, 1, 2, 119, 1)"
      ]
     },
     "execution_count": 100,
     "metadata": {},
     "output_type": "execute_result"
    }
   ],
   "source": [
    "# check lengths\n",
    "\n",
    "len(nat_pred[0]), len(nat_pred[1]), len(nat_pred[2]), len(test_bin[0]), len(test_bin[1]), len(test_bin[2])"
   ]
  },
  {
   "cell_type": "code",
   "execution_count": 101,
   "metadata": {},
   "outputs": [],
   "source": [
    "# create list of predictions\n",
    "\n",
    "nat_preds = [f[1] for sublist in nat_pred for f in sublist]\n",
    "\n",
    "# create list of true labels\n",
    "\n",
    "nat_true = [f[1] for sublist in test_bin for f in sublist]"
   ]
  },
  {
   "attachments": {},
   "cell_type": "markdown",
   "metadata": {},
   "source": [
    "##### Evaluation"
   ]
  },
  {
   "cell_type": "code",
   "execution_count": 102,
   "metadata": {},
   "outputs": [
    {
     "name": "stdout",
     "output_type": "stream",
     "text": [
      "accuracy: 0.9547148971420683\n",
      "f1 average: 0.46346137024359635\n",
      "\n",
      "precision: [0.01984733 0.42857143 0.99927662]\n",
      "recall: [0.59090909 0.33333333 0.95565548]\n",
      "f1: [0.03840473 0.375      0.97697938]\n",
      "\n",
      "              precision    recall  f1-score   support\n",
      "\n",
      "           B       0.02      0.59      0.04        22\n",
      "           I       0.43      0.33      0.38         9\n",
      "           O       1.00      0.96      0.98     14455\n",
      "\n",
      "    accuracy                           0.95     14486\n",
      "   macro avg       0.48      0.63      0.46     14486\n",
      "weighted avg       1.00      0.95      0.98     14486\n",
      "\n"
     ]
    },
    {
     "data": {
      "image/png": "[encoded data removed]",
      "text/plain": [
       "<Figure size 640x480 with 2 Axes>"
      ]
     },
     "metadata": {},
     "output_type": "display_data"
    }
   ],
   "source": [
    "evaluator(nat_true, nat_preds, labels)"
   ]
  },
  {
   "attachments": {},
   "cell_type": "markdown",
   "metadata": {},
   "source": [
    "##### Lexical look-up: `MARKET`"
   ]
  },
  {
   "cell_type": "code",
   "execution_count": 103,
   "metadata": {},
   "outputs": [],
   "source": [
    "# construct list of lists of tuples, with each list of tuples representing one sentence and its labels\n",
    "\n",
    "raw_data = [list(zip(g['token'], g['MARKET'])) for k, g in \n",
    "            df_v.groupby(df_v['word_id'].str.endswith('.0').cumsum())]\n",
    "\n",
    "# shuffle data\n",
    "\n",
    "random.shuffle(raw_data)"
   ]
  },
  {
   "cell_type": "code",
   "execution_count": 104,
   "metadata": {},
   "outputs": [
    {
     "name": "stdout",
     "output_type": "stream",
     "text": [
      "Desired split: 0.8\n",
      "Actual split: 0.8033\n"
     ]
    },
    {
     "data": {
      "text/plain": [
       "(1692, 1234, 458)"
      ]
     },
     "execution_count": 104,
     "metadata": {},
     "output_type": "execute_result"
    }
   ],
   "source": [
    "# split the data into train and test\n",
    "\n",
    "dist = get_distribution(raw_data)\n",
    "train_bin, test_bin = splitter(raw_data, splitter_split, dist)\n",
    "\n",
    "# check the splits\n",
    "\n",
    "len(raw_data), len(train_bin), len(test_bin)"
   ]
  },
  {
   "cell_type": "code",
   "execution_count": 105,
   "metadata": {},
   "outputs": [],
   "source": [
    "# preprocess training and test data\n",
    "\n",
    "train_bin = preprocess_for_lexical(train_bin)\n",
    "test_bin = preprocess_for_lexical(test_bin)\n",
    "\n",
    "# make lexicon for labels\n",
    "\n",
    "lexical_dict = lexi_maker(train_bin)\n",
    "\n",
    "# make predictions\n",
    "\n",
    "mark_pred = predict_labels(test_bin, lexical_dict)"
   ]
  },
  {
   "cell_type": "code",
   "execution_count": 106,
   "metadata": {},
   "outputs": [
    {
     "data": {
      "text/plain": [
       "(177, 166, 6, 177, 166, 6)"
      ]
     },
     "execution_count": 106,
     "metadata": {},
     "output_type": "execute_result"
    }
   ],
   "source": [
    "# check lengths\n",
    "\n",
    "len(mark_pred[0]), len(mark_pred[1]), len(mark_pred[2]), len(test_bin[0]), len(test_bin[1]), len(test_bin[2])"
   ]
  },
  {
   "cell_type": "code",
   "execution_count": 107,
   "metadata": {},
   "outputs": [],
   "source": [
    "# create list of predictions\n",
    "\n",
    "mark_preds = [f[1] for sublist in mark_pred for f in sublist]\n",
    "\n",
    "# create list of true labels\n",
    "\n",
    "mark_true = [f[1] for sublist in test_bin for f in sublist]"
   ]
  },
  {
   "attachments": {},
   "cell_type": "markdown",
   "metadata": {},
   "source": [
    "##### Evaluation"
   ]
  },
  {
   "cell_type": "code",
   "execution_count": 108,
   "metadata": {},
   "outputs": [
    {
     "name": "stdout",
     "output_type": "stream",
     "text": [
      "accuracy: 0.9370099050763516\n",
      "f1 average: 0.4520146392420575\n",
      "\n",
      "precision: [0.00916667 0.25       0.99988977]\n",
      "recall: [0.91666667 0.71428571 0.93718359]\n",
      "f1: [0.01815182 0.37037037 0.96752173]\n",
      "\n",
      "              precision    recall  f1-score   support\n",
      "\n",
      "           B       0.01      0.92      0.02        12\n",
      "           I       0.25      0.71      0.37        14\n",
      "           O       1.00      0.94      0.97     19358\n",
      "\n",
      "    accuracy                           0.94     19384\n",
      "   macro avg       0.42      0.86      0.45     19384\n",
      "weighted avg       1.00      0.94      0.97     19384\n",
      "\n"
     ]
    },
    {
     "data": {
      "image/png": "[encoded data removed]",
      "text/plain": [
       "<Figure size 640x480 with 2 Axes>"
      ]
     },
     "metadata": {},
     "output_type": "display_data"
    }
   ],
   "source": [
    "evaluator(mark_true, mark_preds, labels)"
   ]
  },
  {
   "attachments": {},
   "cell_type": "markdown",
   "metadata": {},
   "source": [
    "##### Lexical look-up: `TIME`"
   ]
  },
  {
   "cell_type": "code",
   "execution_count": 109,
   "metadata": {},
   "outputs": [],
   "source": [
    "# construct list of lists of tuples, with each list of tuples representing one sentence and its labels\n",
    "\n",
    "raw_data = [list(zip(g['token'], g['TIME'])) for k, g in \n",
    "            df_v.groupby(df_v['word_id'].str.endswith('.0').cumsum())]\n",
    "\n",
    "# shuffle data\n",
    "\n",
    "random.shuffle(raw_data)"
   ]
  },
  {
   "cell_type": "code",
   "execution_count": 110,
   "metadata": {},
   "outputs": [
    {
     "name": "stdout",
     "output_type": "stream",
     "text": [
      "Desired split: 0.8\n",
      "Actual split: 0.8063\n"
     ]
    },
    {
     "data": {
      "text/plain": [
       "(1692, 1351, 341)"
      ]
     },
     "execution_count": 110,
     "metadata": {},
     "output_type": "execute_result"
    }
   ],
   "source": [
    "# split the data into train and test\n",
    "\n",
    "dist = get_distribution(raw_data)\n",
    "train_bin, test_bin = splitter(raw_data, splitter_split, dist)\n",
    "\n",
    "# check the splits\n",
    "\n",
    "len(raw_data), len(train_bin), len(test_bin)"
   ]
  },
  {
   "cell_type": "code",
   "execution_count": 111,
   "metadata": {},
   "outputs": [],
   "source": [
    "# preprocess training and test data\n",
    "\n",
    "train_bin = preprocess_for_lexical(train_bin)\n",
    "test_bin = preprocess_for_lexical(test_bin)\n",
    "\n",
    "# make lexicon for labels\n",
    "\n",
    "lexical_dict = lexi_maker(train_bin)\n",
    "\n",
    "# make predictions\n",
    "\n",
    "time_pred = predict_labels(test_bin, lexical_dict)"
   ]
  },
  {
   "cell_type": "code",
   "execution_count": 112,
   "metadata": {},
   "outputs": [
    {
     "data": {
      "text/plain": [
       "(6, 44, 32, 6, 44, 32)"
      ]
     },
     "execution_count": 112,
     "metadata": {},
     "output_type": "execute_result"
    }
   ],
   "source": [
    "# check lengths\n",
    "\n",
    "len(time_pred[0]), len(time_pred[1]), len(time_pred[2]), len(test_bin[0]), len(test_bin[1]), len(test_bin[2])"
   ]
  },
  {
   "cell_type": "code",
   "execution_count": 113,
   "metadata": {},
   "outputs": [],
   "source": [
    "# create list of predictions\n",
    "\n",
    "time_preds = [f[1] for sublist in time_pred for f in sublist]\n",
    "\n",
    "# create list of true labels\n",
    "\n",
    "time_true = [f[1] for sublist in test_bin for f in sublist]"
   ]
  },
  {
   "attachments": {},
   "cell_type": "markdown",
   "metadata": {},
   "source": [
    "##### Evaluation"
   ]
  },
  {
   "cell_type": "code",
   "execution_count": 114,
   "metadata": {},
   "outputs": [
    {
     "name": "stdout",
     "output_type": "stream",
     "text": [
      "accuracy: 0.6819672131147541\n",
      "f1 average: 0.31415121285488606\n",
      "\n",
      "precision: [0.03992114 0.02958978 0.99843857]\n",
      "recall: [0.82653061 0.75213675 0.68047888]\n",
      "f1: [0.07616361 0.0569395  0.80935053]\n",
      "\n",
      "              precision    recall  f1-score   support\n",
      "\n",
      "           B       0.04      0.83      0.08        98\n",
      "           I       0.03      0.75      0.06       117\n",
      "           O       1.00      0.68      0.81     15035\n",
      "\n",
      "    accuracy                           0.68     15250\n",
      "   macro avg       0.36      0.75      0.31     15250\n",
      "weighted avg       0.98      0.68      0.80     15250\n",
      "\n"
     ]
    },
    {
     "data": {
      "image/png": "[encoded data removed]",
      "text/plain": [
       "<Figure size 640x480 with 2 Axes>"
      ]
     },
     "metadata": {},
     "output_type": "display_data"
    }
   ],
   "source": [
    "evaluator(time_true, time_preds, labels)"
   ]
  },
  {
   "attachments": {},
   "cell_type": "markdown",
   "metadata": {},
   "source": [
    "##### Lexical look-up: `GOD`"
   ]
  },
  {
   "cell_type": "code",
   "execution_count": 115,
   "metadata": {},
   "outputs": [],
   "source": [
    "# construct list of lists of tuples, with each list of tuples representing one sentence and its labels\n",
    "\n",
    "raw_data = [list(zip(g['token'], g['GOD'])) for k, g in \n",
    "            df_v.groupby(df_v['word_id'].str.endswith('.0').cumsum())]\n",
    "\n",
    "# shuffle data\n",
    "\n",
    "random.shuffle(raw_data)"
   ]
  },
  {
   "cell_type": "code",
   "execution_count": 116,
   "metadata": {},
   "outputs": [
    {
     "name": "stdout",
     "output_type": "stream",
     "text": [
      "Desired split: 0.8\n",
      "Actual split: 0.8014\n"
     ]
    },
    {
     "data": {
      "text/plain": [
       "(1692, 1350, 342)"
      ]
     },
     "execution_count": 116,
     "metadata": {},
     "output_type": "execute_result"
    }
   ],
   "source": [
    "# split the data into train and test\n",
    "\n",
    "dist = get_distribution(raw_data)\n",
    "train_bin, test_bin = splitter(raw_data, splitter_split, dist)\n",
    "\n",
    "# check the splits\n",
    "\n",
    "len(raw_data), len(train_bin), len(test_bin)"
   ]
  },
  {
   "cell_type": "code",
   "execution_count": 117,
   "metadata": {},
   "outputs": [],
   "source": [
    "# preprocess training and test data\n",
    "\n",
    "train_bin = preprocess_for_lexical(train_bin)\n",
    "test_bin = preprocess_for_lexical(test_bin)\n",
    "\n",
    "# make lexicon for labels\n",
    "\n",
    "lexical_dict = lexi_maker(train_bin)\n",
    "\n",
    "# make predictions\n",
    "\n",
    "god_pred = predict_labels(test_bin, lexical_dict)"
   ]
  },
  {
   "cell_type": "code",
   "execution_count": 118,
   "metadata": {},
   "outputs": [
    {
     "data": {
      "text/plain": [
       "(2, 66, 65, 2, 66, 65)"
      ]
     },
     "execution_count": 118,
     "metadata": {},
     "output_type": "execute_result"
    }
   ],
   "source": [
    "# check lengths\n",
    "\n",
    "len(god_pred[0]), len(god_pred[1]), len(god_pred[2]), len(test_bin[0]), len(test_bin[1]), len(test_bin[2])"
   ]
  },
  {
   "cell_type": "code",
   "execution_count": 119,
   "metadata": {},
   "outputs": [],
   "source": [
    "# create list of predictions\n",
    "\n",
    "god_preds = [f[1] for sublist in god_pred for f in sublist]\n",
    "\n",
    "# create list of true labels\n",
    "\n",
    "god_true = [f[1] for sublist in test_bin for f in sublist]"
   ]
  },
  {
   "attachments": {},
   "cell_type": "markdown",
   "metadata": {},
   "source": [
    "##### Evaluation"
   ]
  },
  {
   "cell_type": "code",
   "execution_count": 120,
   "metadata": {},
   "outputs": [
    {
     "name": "stdout",
     "output_type": "stream",
     "text": [
      "accuracy: 0.9118773946360154\n",
      "f1 average: 0.36000557476960343\n",
      "\n",
      "precision: [0.0508647  0.01517707 0.9999361 ]\n",
      "recall: [0.90909091 0.69230769 0.91205269]\n",
      "f1: [0.09633911 0.02970297 0.95397464]\n",
      "\n",
      "              precision    recall  f1-score   support\n",
      "\n",
      "           B       0.05      0.91      0.10        55\n",
      "           I       0.02      0.69      0.03        13\n",
      "           O       1.00      0.91      0.95     17158\n",
      "\n",
      "    accuracy                           0.91     17226\n",
      "   macro avg       0.36      0.84      0.36     17226\n",
      "weighted avg       1.00      0.91      0.95     17226\n",
      "\n"
     ]
    },
    {
     "data": {
      "image/png": "[encoded data removed]",
      "text/plain": [
       "<Figure size 640x480 with 2 Axes>"
      ]
     },
     "metadata": {},
     "output_type": "display_data"
    }
   ],
   "source": [
    "evaluator(god_true, god_preds, labels)"
   ]
  },
  {
   "attachments": {},
   "cell_type": "markdown",
   "metadata": {},
   "source": [
    "##### Regular expression: `DATE`\n",
    "$\\to$ iterating through NER Subcorpus by line"
   ]
  },
  {
   "cell_type": "code",
   "execution_count": 121,
   "metadata": {},
   "outputs": [],
   "source": [
    "# the file v_f1t0.json prepared for spaCy is suitable to use here as it contains the entire VARDed NER subcorpus as a list of strings\n",
    "\n",
    "with open('v_f1t0.json') as file:\n",
    "    data = json.load(file)\n",
    "\n",
    "# save string of VARDed NER subcorpus text\n",
    "\n",
    "text_v_f1t0 = ' '.join(data)"
   ]
  },
  {
   "cell_type": "code",
   "execution_count": 122,
   "metadata": {},
   "outputs": [],
   "source": [
    "# find regex pattern matches and create labels\n",
    "\n",
    "pattern = r\"\\b(the\\s)?(\\d{1,2})(?:(th|st|nd|rd)\\b)?(?=\\s)\"\n",
    "\n",
    "# find matches, create finditer iterator\n",
    "\n",
    "matches = re.finditer(pattern, text_v_f1t0)\n",
    "\n",
    "# split text\n",
    "\n",
    "words = text_v_f1t0.split()\n",
    "\n",
    "# store the labels\n",
    "\n",
    "date_labels = ['O'] * len(words)\n",
    "\n",
    "# iterate over the matches and update the date_labels\n",
    "\n",
    "for match in matches:\n",
    "    start_index = match.start()\n",
    "    end_index = match.end()\n",
    "\n",
    "    # split the matched words\n",
    "    matched_words = text_v_f1t0[start_index:end_index].split()\n",
    "\n",
    "    # label the first word as 'B'\n",
    "    date_labels[words.index(matched_words[0])] = 'B'\n",
    "\n",
    "    # label subsequent words as 'I'\n",
    "    for i in range(1, len(matched_words)):\n",
    "        date_labels[words.index(matched_words[i])] = 'I'"
   ]
  },
  {
   "cell_type": "code",
   "execution_count": 123,
   "metadata": {},
   "outputs": [],
   "source": [
    "# create list of true labels \n",
    "\n",
    "date_true = df_v['DATE'].tolist()"
   ]
  },
  {
   "attachments": {},
   "cell_type": "markdown",
   "metadata": {},
   "source": [
    "##### Evaluation"
   ]
  },
  {
   "cell_type": "code",
   "execution_count": 124,
   "metadata": {},
   "outputs": [
    {
     "name": "stdout",
     "output_type": "stream",
     "text": [
      "accuracy: 0.9721521963453024\n",
      "f1 average: 0.34178686828713273\n",
      "\n",
      "precision: [0.11764706 0.69565217 0.97280513]\n",
      "recall: [0.01022147 0.01043025 0.99955668]\n",
      "f1: [0.01880878 0.02055234 0.98599948]\n",
      "\n",
      "              precision    recall  f1-score   support\n",
      "\n",
      "           B       0.12      0.01      0.02       587\n",
      "           I       0.70      0.01      0.02      1534\n",
      "           O       0.97      1.00      0.99     74438\n",
      "\n",
      "    accuracy                           0.97     76559\n",
      "   macro avg       0.60      0.34      0.34     76559\n",
      "weighted avg       0.96      0.97      0.96     76559\n",
      "\n"
     ]
    },
    {
     "data": {
      "image/png": "[encoded data removed]",
      "text/plain": [
       "<Figure size 640x480 with 2 Axes>"
      ]
     },
     "metadata": {},
     "output_type": "display_data"
    }
   ],
   "source": [
    "evaluator(date_true, date_labels, labels)"
   ]
  },
  {
   "attachments": {},
   "cell_type": "markdown",
   "metadata": {},
   "source": [
    "##### Regular expression: `PRICE`\n",
    "$\\to$ iterating through the `df` to match on word tokens"
   ]
  },
  {
   "cell_type": "code",
   "execution_count": 125,
   "metadata": {},
   "outputs": [],
   "source": [
    "# same patterns\n",
    "\n",
    "B_patterns = [\"\\\\b\\w*li\\\\b|\\\\bli\\\\b\", \"\\\\b.*ij\\\\b\", \"\\w*xx\\w*\"]\n",
    "I_patterns = [\"\\\\bst\\.\", \"\\\\bFl\\.\"]"
   ]
  },
  {
   "cell_type": "code",
   "execution_count": 126,
   "metadata": {},
   "outputs": [
    {
     "data": {
      "text/html": [
       "<div>\n",
       "<style scoped>\n",
       "    .dataframe tbody tr th:only-of-type {\n",
       "        vertical-align: middle;\n",
       "    }\n",
       "\n",
       "    .dataframe tbody tr th {\n",
       "        vertical-align: top;\n",
       "    }\n",
       "\n",
       "    .dataframe thead th {\n",
       "        text-align: right;\n",
       "    }\n",
       "</style>\n",
       "<table border=\"1\" class=\"dataframe\">\n",
       "  <thead>\n",
       "    <tr style=\"text-align: right;\">\n",
       "      <th></th>\n",
       "      <th>word_id</th>\n",
       "      <th>word</th>\n",
       "      <th>token</th>\n",
       "      <th>NAME</th>\n",
       "      <th>LOCATION</th>\n",
       "      <th>NATION</th>\n",
       "      <th>MARKET</th>\n",
       "      <th>DATE</th>\n",
       "      <th>TIME</th>\n",
       "      <th>PRICE</th>\n",
       "      <th>GOD</th>\n",
       "      <th>labels</th>\n",
       "      <th>PRICE_re_labels</th>\n",
       "    </tr>\n",
       "  </thead>\n",
       "  <tbody>\n",
       "    <tr>\n",
       "      <th>0</th>\n",
       "      <td>SB_J_1.0.0</td>\n",
       "      <td>1.</td>\n",
       "      <td>1.</td>\n",
       "      <td>O</td>\n",
       "      <td>O</td>\n",
       "      <td>O</td>\n",
       "      <td>O</td>\n",
       "      <td>O</td>\n",
       "      <td>O</td>\n",
       "      <td>O</td>\n",
       "      <td>O</td>\n",
       "      <td>O</td>\n",
       "      <td>O</td>\n",
       "    </tr>\n",
       "    <tr>\n",
       "      <th>1</th>\n",
       "      <td>SB_J_1.0.1</td>\n",
       "      <td>HOTEL</td>\n",
       "      <td>HOTEL</td>\n",
       "      <td>B</td>\n",
       "      <td>O</td>\n",
       "      <td>O</td>\n",
       "      <td>O</td>\n",
       "      <td>O</td>\n",
       "      <td>O</td>\n",
       "      <td>O</td>\n",
       "      <td>O</td>\n",
       "      <td>NAME-B</td>\n",
       "      <td>O</td>\n",
       "    </tr>\n",
       "    <tr>\n",
       "      <th>2</th>\n",
       "      <td>SB_J_1.0.2</td>\n",
       "      <td>JOHNSON</td>\n",
       "      <td>JOHNSON</td>\n",
       "      <td>I</td>\n",
       "      <td>O</td>\n",
       "      <td>O</td>\n",
       "      <td>O</td>\n",
       "      <td>O</td>\n",
       "      <td>O</td>\n",
       "      <td>O</td>\n",
       "      <td>O</td>\n",
       "      <td>NAME-I</td>\n",
       "      <td>O</td>\n",
       "    </tr>\n",
       "    <tr>\n",
       "      <th>3</th>\n",
       "      <td>SB_J_1.0.3</td>\n",
       "      <td>TO</td>\n",
       "      <td>TO</td>\n",
       "      <td>O</td>\n",
       "      <td>O</td>\n",
       "      <td>O</td>\n",
       "      <td>O</td>\n",
       "      <td>O</td>\n",
       "      <td>O</td>\n",
       "      <td>O</td>\n",
       "      <td>O</td>\n",
       "      <td>O</td>\n",
       "      <td>O</td>\n",
       "    </tr>\n",
       "    <tr>\n",
       "      <th>4</th>\n",
       "      <td>SB_J_1.0.4</td>\n",
       "      <td>JOHN</td>\n",
       "      <td>JOHN</td>\n",
       "      <td>B</td>\n",
       "      <td>O</td>\n",
       "      <td>O</td>\n",
       "      <td>O</td>\n",
       "      <td>O</td>\n",
       "      <td>O</td>\n",
       "      <td>O</td>\n",
       "      <td>O</td>\n",
       "      <td>NAME-B</td>\n",
       "      <td>O</td>\n",
       "    </tr>\n",
       "  </tbody>\n",
       "</table>\n",
       "</div>"
      ],
      "text/plain": [
       "      word_id     word    token NAME LOCATION NATION MARKET DATE TIME PRICE  \\\n",
       "0  SB_J_1.0.0       1.       1.    O        O      O      O    O    O     O   \n",
       "1  SB_J_1.0.1    HOTEL    HOTEL    B        O      O      O    O    O     O   \n",
       "2  SB_J_1.0.2  JOHNSON  JOHNSON    I        O      O      O    O    O     O   \n",
       "3  SB_J_1.0.3       TO       TO    O        O      O      O    O    O     O   \n",
       "4  SB_J_1.0.4     JOHN     JOHN    B        O      O      O    O    O     O   \n",
       "\n",
       "  GOD  labels PRICE_re_labels  \n",
       "0   O       O               O  \n",
       "1   O  NAME-B               O  \n",
       "2   O  NAME-I               O  \n",
       "3   O       O               O  \n",
       "4   O  NAME-B               O  "
      ]
     },
     "execution_count": 126,
     "metadata": {},
     "output_type": "execute_result"
    }
   ],
   "source": [
    "# iterate through letters by token and search for matches\n",
    "\n",
    "df_v['PRICE_re_labels'] = df_v['token'].apply(lambda x: check_regex(x))\n",
    "\n",
    "# check df_v\n",
    "\n",
    "df_v.head()"
   ]
  },
  {
   "cell_type": "code",
   "execution_count": 127,
   "metadata": {},
   "outputs": [],
   "source": [
    "# create list of predictions\n",
    "\n",
    "price_preds = df_v['PRICE_re_labels'].tolist()\n",
    "\n",
    "# create list of true labels \n",
    "\n",
    "price_true = df_v['PRICE'].tolist()"
   ]
  },
  {
   "attachments": {},
   "cell_type": "markdown",
   "metadata": {},
   "source": [
    "##### Evaluation"
   ]
  },
  {
   "cell_type": "code",
   "execution_count": 128,
   "metadata": {},
   "outputs": [
    {
     "name": "stdout",
     "output_type": "stream",
     "text": [
      "accuracy: 0.9883488551313366\n",
      "f1 average: 0.6274153228844447\n",
      "\n",
      "precision: [0.66995074 0.96992481 0.99008156]\n",
      "recall: [0.46337308 0.20607029 0.99893823]\n",
      "f1: [0.54783484 0.33992095 0.99449018]\n",
      "\n",
      "              precision    recall  f1-score   support\n",
      "\n",
      "           B       0.67      0.46      0.55       587\n",
      "           I       0.97      0.21      0.34       626\n",
      "           O       0.99      1.00      0.99     75346\n",
      "\n",
      "    accuracy                           0.99     76559\n",
      "   macro avg       0.88      0.56      0.63     76559\n",
      "weighted avg       0.99      0.99      0.99     76559\n",
      "\n"
     ]
    },
    {
     "data": {
      "image/png": "[encoded data removed]",
      "text/plain": [
       "<Figure size 640x480 with 2 Axes>"
      ]
     },
     "metadata": {},
     "output_type": "display_data"
    }
   ],
   "source": [
    "evaluator(price_true, price_preds, labels)"
   ]
  },
  {
   "cell_type": "code",
   "execution_count": null,
   "metadata": {},
   "outputs": [],
   "source": []
  }
 ],
 "metadata": {
  "kernelspec": {
   "display_name": "base",
   "language": "python",
   "name": "python3"
  },
  "language_info": {
   "codemirror_mode": {
    "name": "ipython",
    "version": 3
   },
   "file_extension": ".py",
   "mimetype": "text/x-python",
   "name": "python",
   "nbconvert_exporter": "python",
   "pygments_lexer": "ipython3",
   "version": "3.8.13"
  },
  "orig_nbformat": 4
 },
 "nbformat": 4,
 "nbformat_minor": 2
}
